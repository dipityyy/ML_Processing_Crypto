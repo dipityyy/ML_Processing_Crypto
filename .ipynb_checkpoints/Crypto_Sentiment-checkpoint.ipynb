News Headlines Sentiment

Use the news api to pull the latest news articles for bitcoin and ethereum and create a DataFrame of sentiment scores for each coin.

Use descriptive statistics to answer the following questions:

Which coin had the highest mean positive score?
Which coin had the highest negative score?
Which coin had the highest positive score?
In [1]:
# Initial imports
import os
import pandas as pd
from dotenv import load_dotenv
from nltk.sentiment.vader import SentimentIntensityAnalyzer
analyzer = SentimentIntensityAnalyzer()

%matplotlib inline
In [2]:
# Read your api key environment variable
load_dotenv()
api_key = os.getenv('NEWS_API')
In [3]:
# Create a newsapi client
from newsapi import NewsApiClient
newsapi = NewsApiClient(api_key=api_key)
In [4]:
# Fetch the Bitcoin news articles
bitcoin_headlines = newsapi.get_everything(
    q="bitcoin",
    language="en",
    page_size=100,
    sort_by="relevancy"
)

# Print total articles
print(f"Total articles about Bitcoin: {bitcoin_headlines['totalResults']}")
Total articles about Bitcoin: 4682
In [5]:
# Fetch the Ethereum news articles
ethereum_headlines = newsapi.get_everything(
    q="ethereum",
    language="en",
    page_size=100,
    sort_by="relevancy"
)

# Print total articles
print(f"Total articles about Ethereum: {ethereum_headlines['totalResults']}")
Total articles about Ethereum: 1276
In [8]:
# Create the Bitcoin sentiment scores DataFrame
bitcoin_sentiments = []

for article in bitcoin_headlines["articles"]:
    try:
        text = article["content"]
        date = article["publishedAt"][:10]
        sentiment = analyzer.polarity_scores(text)
        compound = sentiment["compound"]
        pos = sentiment["pos"]
        neu = sentiment["neu"]
        neg = sentiment["neg"]
        
        bitcoin_sentiments.append({
            "text": text,
            "date": date,
            "compound": compound,
            "positive": pos,
            "negative": neg,
            "neutral": neu
            
        })
        
    except AttributeError:
        pass
    
# Create DataFrame
bitcoin_df = pd.DataFrame(bitcoin_sentiments)
    
# Reorder DataFrame columns
cols = ["compound", "negative", "neutral", "positive", "text", "date"]
bitcoin_df = bitcoin_df[cols]
    
# Drop "Date" column
bitcoin_df = bitcoin_df.drop(columns=['date'])
bitcoin_df.head()
Out[8]:
compound	negative	neutral	positive	text
0	0.6369	0.000	0.838	0.162	Visa has partnered with cryptocurrency startup...
1	0.2023	0.000	0.950	0.050	In November 2017, after an absolutely massive,...
2	0.0000	0.000	1.000	0.000	Unlike ‘conventional’ cryptocurrencies, a cent...
3	0.4404	0.075	0.773	0.152	If youve been watching the crypto markets over...
4	0.0000	0.000	1.000	0.000	Six years after the launch of the Mexico-based...
In [9]:
# Create the ethereum sentiment scores DataFrame
ethereum_sentiments = []

for article in ethereum_headlines["articles"]:
    try:
        text = article["content"]
        date = article["publishedAt"][:10]
        sentiment = analyzer.polarity_scores(text)
        compound = sentiment["compound"]
        pos = sentiment["pos"]
        neu = sentiment["neu"]
        neg = sentiment["neg"]
        
        ethereum_sentiments.append({
            "text": text,
            "date": date,
            "compound": compound,
            "positive": pos,
            "negative": neg,
            "neutral": neu
            
        })
        
    except AttributeError:
        pass
    
# Create DataFrame
ethereum_df = pd.DataFrame(ethereum_sentiments)
    
# Reorder DataFrame columns
cols = ["compound", "negative", "neutral", "positive", "text", "date"]
ethereum_df = ethereum_df[cols]
    
# Drop "Date" column
ethereum_df = ethereum_df.drop(columns=['date'])
ethereum_df.head()
Out[9]:
compound	negative	neutral	positive	text
0	0.0000	0.0	1.000	0.000	FILE PHOTO: Representation of the Ethereum vir...
1	0.0000	0.0	1.000	0.000	FILE PHOTO: Representation of the Ethereum vir...
2	0.4215	0.0	0.912	0.088	LONDON (Reuters) - Digital currencies Ethereum...
3	0.1779	0.0	0.948	0.052	NEW YORK (Reuters) - Institutional investors p...
4	0.1779	0.0	0.948	0.052	NEW YORK (Reuters) - Institutional investors p...
In [10]:
# Describe the Bitcoin Sentiment
bitcoin_df.describe()
Out[10]:
compound	negative	neutral	positive
count	99.000000	99.000000	99.000000	99.000000
mean	0.154510	0.018141	0.926717	0.055152
std	0.326482	0.046739	0.077543	0.065729
min	-0.946800	0.000000	0.637000	0.000000
25%	0.000000	0.000000	0.860500	0.000000
50%	0.000000	0.000000	0.948000	0.050000
75%	0.396900	0.000000	1.000000	0.117000
max	0.877900	0.363000	1.000000	0.318000
In [11]:
# Describe the Ethereum Sentiment
ethereum_df.describe()
Out[11]:
compound	negative	neutral	positive
count	96.000000	96.000000	96.000000	96.000000
mean	0.243635	0.021219	0.896615	0.082156
std	0.350801	0.047167	0.092644	0.078330
min	-0.779200	0.000000	0.653000	0.000000
25%	0.000000	0.000000	0.838250	0.000000
50%	0.250000	0.000000	0.913000	0.074000
75%	0.493900	0.000000	1.000000	0.132250
max	0.883400	0.239000	1.000000	0.347000
Questions:

Q: Which coin had the highest mean positive score?

A: Ethereum had the highest mean positive score with a mean of .082, compared to bitcoin's mean positive score of .055.

Q: Which coin had the highest compound score?

A: Ethereum had the highest compound score with a max of .883, compared to bitcoin's max compound score of .878.

Q. Which coin had the highest positive score?

A: Ethereum had the highest positive score with a max of .347, compared to bitcoin's max positive score of .318.

Tokenizer

In this section, you will use NLTK and Python to tokenize the text for each coin. Be sure to:

Lowercase each word
Remove Punctuation
Remove Stopwords
In [16]:
from nltk.tokenize import word_tokenize, sent_tokenize
from nltk.corpus import stopwords
from nltk.stem import WordNetLemmatizer, PorterStemmer
from string import punctuation
import re

lemmatizer = WordNetLemmatizer()
In [17]:
# Expand the default stopwords list if necessary

# First, print default list if stopwords:
print(stopwords.words('english'))
['i', 'me', 'my', 'myself', 'we', 'our', 'ours', 'ourselves', 'you', "you're", "you've", "you'll", "you'd", 'your', 'yours', 'yourself', 'yourselves', 'he', 'him', 'his', 'himself', 'she', "she's", 'her', 'hers', 'herself', 'it', "it's", 'its', 'itself', 'they', 'them', 'their', 'theirs', 'themselves', 'what', 'which', 'who', 'whom', 'this', 'that', "that'll", 'these', 'those', 'am', 'is', 'are', 'was', 'were', 'be', 'been', 'being', 'have', 'has', 'had', 'having', 'do', 'does', 'did', 'doing', 'a', 'an', 'the', 'and', 'but', 'if', 'or', 'because', 'as', 'until', 'while', 'of', 'at', 'by', 'for', 'with', 'about', 'against', 'between', 'into', 'through', 'during', 'before', 'after', 'above', 'below', 'to', 'from', 'up', 'down', 'in', 'out', 'on', 'off', 'over', 'under', 'again', 'further', 'then', 'once', 'here', 'there', 'when', 'where', 'why', 'how', 'all', 'any', 'both', 'each', 'few', 'more', 'most', 'other', 'some', 'such', 'no', 'nor', 'not', 'only', 'own', 'same', 'so', 'than', 'too', 'very', 's', 't', 'can', 'will', 'just', 'don', "don't", 'should', "should've", 'now', 'd', 'll', 'm', 'o', 're', 've', 'y', 'ain', 'aren', "aren't", 'couldn', "couldn't", 'didn', "didn't", 'doesn', "doesn't", 'hadn', "hadn't", 'hasn', "hasn't", 'haven', "haven't", 'isn', "isn't", 'ma', 'mightn', "mightn't", 'mustn', "mustn't", 'needn', "needn't", 'shan', "shan't", 'shouldn', "shouldn't", 'wasn', "wasn't", 'weren', "weren't", 'won', "won't", 'wouldn', "wouldn't"]
In [49]:
# Now, add-on to that default list:
sw_addons = {'also', 'since', 'youve'}
In [50]:
# Complete the tokenizer function
def tokenizer(text):
    """Tokenizes text."""
    
    # Create a list of the words
    sw = set(stopwords.words('english'))
    # Convert the words to lowercase
    regex = re.compile("[^a-zA-Z ]")
    # Remove the punctuation
    re_clean = regex.sub('', text)
    # Remove the stop words
    words = word_tokenize(re_clean)
    # Lemmatize Words into root words
    lem = [lemmatizer.lemmatize(word) for word in words]
    tokens = [word.lower() for word in lem if word.lower() not in sw.union(sw_addons)]
    
    return tokens
In [51]:
# Create a new tokens column for bitcoin
bitcoin_df['tokens'] = bitcoin_df['text'].apply(tokenizer)
bitcoin_df.head()
Out[51]:
compound	negative	neutral	positive	text	tokens
0	0.6369	0.000	0.838	0.162	Visa has partnered with cryptocurrency startup...	[visahas, partnered, cryptocurrency, startup, ...
1	0.2023	0.000	0.950	0.050	In November 2017, after an absolutely massive,...	[november, absolutely, massive, twomonth, rall...
2	0.0000	0.000	1.000	0.000	Unlike ‘conventional’ cryptocurrencies, a cent...	[unlike, conventional, cryptocurrencies, centr...
3	0.4404	0.075	0.773	0.152	If youve been watching the crypto markets over...	[youve, watching, crypto, market, past, week, ...
4	0.0000	0.000	1.000	0.000	Six years after the launch of the Mexico-based...	[six, year, launch, mexicobased, crypotcurrenc...
In [52]:
# Create a new tokens column for ethereum
ethereum_df['tokens'] = ethereum_df['text'].apply(tokenizer)
ethereum_df.head()
Out[52]:
compound	negative	neutral	positive	text	tokens
0	0.0000	0.0	1.000	0.000	FILE PHOTO: Representation of the Ethereum vir...	[representation, ethereum, virtual, currency, ...
1	0.0000	0.0	1.000	0.000	FILE PHOTO: Representation of the Ethereum vir...	[representation, ethereum, virtual, currency, ...
2	0.4215	0.0	0.912	0.088	LONDON (Reuters) - Digital currencies Ethereum...	[london, reuters, digital, currency, ethereum,...
3	0.1779	0.0	0.948	0.052	NEW YORK (Reuters) - Institutional investors p...	[new, york, reuters, institutional, investor, ...
4	0.1779	0.0	0.948	0.052	NEW YORK (Reuters) - Institutional investors p...	[new, york, reuters, institutional, investor, ...
NGrams and Frequency Analysis

In this section you will look at the ngrams and word frequency for each coin.

Use NLTK to produce the n-grams for N = 2.
List the top 10 words for each coin.
In [53]:
from collections import Counter
from nltk import ngrams
In [54]:
# Generate the Bitcoin N-grams where N=2
bitcoin_text = ' '.join(bitcoin_df.text)
bitcoin_processed = tokenizer(bitcoin_text)
bitcoin_ngrams = Counter(ngrams(bitcoin_processed, n=2))
print(dict(bitcoin_ngrams.most_common(10)))
{('virtual', 'currency'): 31, ('reuters', 'bitcoin'): 26, ('currency', 'bitcoin'): 23, ('illustration', 'taken'): 23, ('char', 'reuters'): 22, ('bitcoin', 'seen'): 19, ('reuters', 'stafffile'): 14, ('representation', 'virtual'): 13, ('taken', 'november'): 12, ('november', 'reutersdado'): 12}
In [55]:
# Generate the Ethereum N-grams where N=2
ethereum_text = ' '.join(ethereum_df.text)
ethereum_processed = tokenizer(ethereum_text)
ethereum_ngrams = Counter(ngrams(ethereum_processed, n=2))
print(dict(ethereum_ngrams.most_common(10)))
{('virtual', 'currency'): 10, ('char', 'bitcoin'): 9, ('char', 'ethereum'): 8, ('york', 'reuters'): 7, ('currency', 'bitcoin'): 7, ('illustration', 'taken'): 7, ('reuters', 'bitcoin'): 7, ('char', 'new'): 6, ('char', 'reuters'): 6, ('bitcoin', 'seen'): 6}
In [56]:
# Use the token_count function to generate the top 10 words from each coin
def token_count(tokens, N=10):
    """Returns the top N tokens from the frequency count"""
    return Counter(tokens).most_common(N)
In [57]:
# Get the top 10 words for Bitcoin
bitcoin_top10 = token_count(bitcoin_processed)
bitcoin_top10
Out[57]:
[('char', 98),
 ('bitcoin', 84),
 ('reuters', 71),
 ('currency', 40),
 ('virtual', 33),
 ('taken', 31),
 ('illustration', 28),
 ('seen', 27),
 ('reutersdado', 27),
 ('cryptocurrency', 21)]
In [58]:
# Get the top 10 words for Ethereum
ethereum_top10 = token_count(ethereum_processed)
ethereum_top10
Out[58]:
[('char', 96),
 ('ethereum', 50),
 ('bitcoin', 40),
 ('ha', 28),
 ('reuters', 21),
 ('blockchain', 16),
 ('cryptocurrency', 14),
 ('asset', 14),
 ('price', 14),
 ('currency', 13)]
Word Clouds

In this section, you will generate word clouds for each coin to summarize the news for each coin

In [59]:
from wordcloud import WordCloud
import matplotlib.pyplot as plt
plt.style.use('seaborn-whitegrid')
import matplotlib as mpl
mpl.rcParams['figure.figsize'] = [20.0, 10.0]
In [60]:
# Generate the Bitcoin word cloud
wc = WordCloud().generate(bitcoin_text)
plt.imshow(wc)
Out[60]:
<matplotlib.image.AxesImage at 0x1a22c9fad0>

In [61]:
# Generate the Ethereum word cloud
wc = WordCloud().generate(ethereum_text)
plt.imshow(wc)
Out[61]:
<matplotlib.image.AxesImage at 0x1a22c44ed0>

Named Entity Recognition

In this section, you will build a named entity recognition model for both coins and visualize the tags using SpaCy.

In [62]:
import spacy
from spacy import displacy
In [64]:
# Load the spaCy model
nlp = spacy.load('en_core_web_sm')
Bitcoin NER
In [69]:
# Concatenate all of the bitcoin text together
bitcoin_text = ' '.join(bitcoin_df.text)
bitcoin_text
Out[69]:
'Visa\xa0has partnered with cryptocurrency startup BlockFi to offer the first rewards credit card that pays out in Bitcoin rather than cash, but is it worth applying for? Unless youre extremely bullish o… [+2239 chars] In November 2017, after an absolutely massive, two-month rally, Bitcoin passed $10,000 for the first time. And then, over the next 20 days, it soared even higher, reaching a price of $19,665 and roug… [+6738 chars] Unlike ‘conventional’ cryptocurrencies, a central bank controls digital yuan — in this case, the People’s Bank of China. The move gives the country more power and, in theory, more stability than freq… [+366 chars] If youve been watching the crypto markets over the past few weeks youll have noticed something special: bitcoin, everyones favorite decentralized digital currency based on hype, lies, and general mal… [+2490 chars] Six years after the launch of the Mexico-based crypotcurrency exchange and financial services platform Bitso the company revealed it has closed on $62 million in financing to capitalize on the crypto… [+4328 chars] Decentralized exchange protocols that allow crypto traders and investors to trade across different blockhains have been in development for a while. A significant new development now comes with the la… [+3079 chars] 4. U.S. markets ended November with large gains. \r\nEven with a small decline today, the S&amp;P 500 jumped by 10.8 percent in November, its best monthly showing since April and the fourth-best month … [+535 chars] Illustration by Grayson Blackmon / The Verge\r\n\n \n\n One of the wildest stories of the year was the day some of the most-followed Twitter accounts on the planet posted cryptocurrency scams because of a… [+4340 chars] Maisie Williams also known as Arya Stark, daughter of Lady Catelyn and Lord Eddard, acolyte of the Faceless Men, you know the one is considering buying some bitcoins.\xa0\r\nOn Monday, she asked her Twitt… [+1512 chars] 8 with 7 posters participating\r\nBitcoin rose above $18,000 on Tuesday evening, reaching its highest value since December 2017. Indeed, prior to this week bitcoin has only been worth more than $18,000… [+1796 chars] FILE PHOTO: Representations of virtual currency Bitcoin are seen in this picture illustration taken taken March 13, 2020. REUTERS/Dado Ruvic//File Photo\r\nFuture of Money\r\nTom Wilson\r\nGertrude Chavez-… [+2623 chars] By Justin HarperBusiness reporter, BBC News\r\nimage copyrightGetty Images\r\nBitcoin, the world\'s best-known cryptocurrency, has jumped above $17,000 (£12,800) to hit a three-year high.\r\nThe digital cur… [+3044 chars] Posted \r\nBitcoin has grabbed headlines this week with its ascent to an all-time high. Yet, a trend has been playing out that could change the face of the cryptocurrency market: a massive flow of coin… [+51 chars] By Reuters Staff\r\nFILE PHOTO: A representation of virtual currency Bitcoin is seen in this illustration taken November 19, 2020. REUTERS/Dado Ruvic/Illustration\r\nTOKYO (Reuters) - Bitcoin dropped to … [+219 chars] FILE PHOTO: Representation of the Ethereum virtual currency standing on the PC motherboard is seen in this illustration picture, February 3, 2018. REUTERS/Dado Ruvic/Illustration\r\nLONDON (Reuters) - … [+1237 chars] LONDON (Reuters) - Digital currencies Ethereum and XRP soared on Monday, gaining momentum as bitcoin powered on towards its all-time high.\r\nFILE PHOTO: Representation of the Ethereum virtual currency… [+1950 chars] By Reuters Staff\r\nFILE PHOTO: Representations of virtual currency Bitcoin are placed on U.S. Dollar banknotes in this illustration taken May 26, 2020. REUTERS/Dado Ruvic/Illustration\r\nLONDON (Reuters… [+463 chars] By Reuters Staff\r\nFILE PHOTO: Representations of virtual currency Bitcoin are placed on U.S. Dollar banknotes in this illustration taken May 26, 2020. REUTERS/Dado Ruvic/Illustration\r\nLONDON (Reuters… [+463 chars] FILE PHOTO: Representation of the Ethereum virtual currency standing on the PC motherboard is seen in this illustration picture, February 3, 2018. REUTERS/Dado Ruvic/Illustration\r\nLONDON (Reuters) - … [+1237 chars] By Reuters Staff\r\nA representation of virtual currency Bitcoin is seen in this illustration taken November 19, 2020. REUTERS/Dado Ruvic/Illustration\r\nTOKYO (Reuters) - Bitcoin dropped to $17,657.53 o… [+207 chars] By Reuters Staff\r\nFILE PHOTO: Representations of virtual currency Bitcoin are seen in this picture illustration taken taken March 13, 2020. REUTERS/Dado Ruvic\r\nLONDON/NEW YORK (Reuters) - Bitcoin jum… [+438 chars] LONDON (Reuters) - Is it an inflation hedge? A currency? Or just another niche asset to take a punt on? Bitcoin is in the headlines, re-kindling a debate over its true role and the drivers behind its… [+2966 chars] LONDON (Reuters) - Is it an inflation hedge? A currency? Or just another niche asset to take a punt on? Bitcoin is in the headlines, re-kindling a debate over its true role and the drivers behind its… [+2895 chars] By Reuters Staff\r\nA representation of virtual currency Bitcoin is seen in this illustration taken November 19, 2020. REUTERS/Dado Ruvic/Illustration\r\nNEW YORK (Reuters) - Bitcoin BTC=BTSP rose to a n… [+1407 chars] By Reuters Staff\r\nA representation of virtual currency Bitcoin is seen in this illustration taken November 19, 2020. REUTERS/Dado Ruvic/Illustration\r\nNEW YORK (Reuters) - Bitcoin BTC=BTSP rose to a n… [+1388 chars] LONDON (Reuters) - Is it an inflation hedge? A currency? Or just another niche asset to take a punt on? Bitcoin is in the headlines, re-kindling a debate over its true role and the drivers behind its… [+2814 chars] FILE PHOTO: A representation of virtual currency Bitcoin is seen in front of a stock graph in this illustration taken November 19, 2020. REUTERS/Dado Ruvic\r\n(Reuters) - Bitcoin is still too volatile … [+1583 chars] FILE PHOTO: A representation of virtual currency Bitcoin is seen in front of a stock graph in this illustration taken November 19, 2020. REUTERS/Dado Ruvic\r\n(Reuters) - Bitcoin is still too volatile … [+1583 chars] FILE PHOTO: A representation of virtual currency Bitcoin is seen in front of a stock graph in this illustration taken November 19, 2020. REUTERS/Dado Ruvic\r\n(Reuters) - Bitcoin is still too volatile … [+1583 chars] A representation of virtual currency Bitcoin is seen in this illustration taken November 19, 2020. REUTERS/Dado Ruvic/Illustration\r\nLONDON (Reuters) - Bitcoin hit $19,000 on Tuesday for the first tim… [+492 chars] By Saikat Chatterjee\r\nA representation of virtual currency Bitcoin is seen in this illustration taken November 19, 2020. REUTERS/Dado Ruvic/Illustration\r\nLONDON (Reuters) - Bitcoin hit $19,000 on Tue… [+514 chars] Looks like the cat is out of the bag.\r\nI’m very excited to be joining the executive team at Twitter!\r\nI truly believe in the mission of (equitably) serving the public conversation.\r\nI will do my best… [+1834 chars] NEW YORK (Reuters) - Bitcoin investors, which include top hedge funds and money managers, are betting the virtual currency could more than quintuple to as high as $100,000 in a year.\r\nFILE PHOTO: A B… [+3987 chars] NEW YORK (Reuters) - Bitcoin investors, which include top hedge funds and money managers, are betting the virtual currency could more than quintuple to as high as $100,000 in a year.\r\nFILE PHOTO: A B… [+3987 chars] By Reuters Staff\r\nFILE PHOTO: Representations of virtual currency Bitcoin are placed on U.S. Dollar banknotes in this illustration taken May 26, 2020. REUTERS/Dado Ruvic/Illustration\r\nLONDON (Reuters… [+909 chars] By Gertrude Chavez-Dreyfuss\r\nNEW YORK (Reuters) - Bitcoin investors, which include top hedge funds and money managers, are betting the virtual currency could more than quintuple to as high as $100,00… [+4016 chars] By Tom Wilson, Gertrude Chavez-Dreyfuss\r\nLONDON/NEW YORK (Reuters) - Bitcoin on Tuesday soared to its highest level since December 2017 as the assets perceived quality as a hedge against inflation an… [+2383 chars] LONDON (Reuters) - Bitcoin passed $17,000 on Tuesday to touch its highest level this year, with investors ascribing the gains to demand for its perceived inflation-resistant qualities and expectation… [+2152 chars] LONDON/NEW YORK (Reuters) - Bitcoin on Tuesday soared to its highest level since December 2017 as the assets perceived quality as a hedge against inflation and expectations of mainstream acceptance l… [+2342 chars] NEW YORK (Reuters) - Bitcoin investors, which include top hedge funds and money managers, are betting the virtual currency could more than quintuple to as high as $100,000 in a year.\r\nFILE PHOTO: A B… [+3912 chars] SHANGHAI/HONG KONG (Reuters) - As the price of bitcoin soars, Chinese cryptocurrency asset managers are looking to expand in places such as Hong Kong and Singapore, skirting an intensified crackdown … [+2855 chars] By Reuters Staff\r\nFILE PHOTO: A representation of virtual currency Bitcoin is seen in front of a stock graph in this illustration taken November 19, 2020. REUTERS/Dado Ruvic/Illustration/File photo\r\n… [+336 chars] LONDON (Reuters) - With bitcoin surging to the cusp of its 2017 all-time high, backers are hoping fewer frenzied retail investors means less chance of a crash this time around.\r\nFILE PHOTO: A Bitcoin… [+3938 chars] By Reuters Staff\r\nFILE PHOTO: Representations of virtual currency Bitcoin are seen in this picture illustration taken taken March 13, 2020. REUTERS/Dado Ruvic\r\nLONDON (Reuters) - Bitcoin on Wednesday… [+153 chars] SHANGHAI/HONG KONG (Reuters) - As the price of bitcoin soars, Chinese cryptocurrency asset managers are looking to expand in places such as Hong Kong and Singapore, skirting an intensified crackdown … [+2855 chars] By Samuel Shen, Alun John\r\nSHANGHAI/HONG KONG (Reuters) - As the price of bitcoin soars, Chinese cryptocurrency asset managers are looking to expand in places such as Hong Kong and Singapore, skirtin… [+2882 chars] SHANGHAI/HONG KONG (Reuters) - As the price of bitcoin soars, Chinese cryptocurrency asset managers are looking to expand in places such as Hong Kong and Singapore, skirting an intensified crackdown … [+2869 chars] (Repeats to fix format, no change to text)\r\nNEW YORK, Nov 24 (Reuters) - Bitcoin investors, which include top hedge funds and money managers, are betting the virtual currency could more than quintupl… [+3752 chars] By Reuters Staff\r\nFILE PHOTO: Representations of virtual currency Bitcoin are seen in this picture illustration taken taken March 13, 2020. REUTERS/Dado Ruvic\r\nLONDON (Reuters) - Bitcoin on Wednesday… [+153 chars] By Reuters Staff\r\nFILE PHOTO: A representation of virtual currency Bitcoin is seen in front of a stock graph in this illustration taken November 19, 2020. REUTERS/Dado Ruvic/Illustration/File photo\r\n… [+336 chars] By Reuters Staff\r\nLONDON, Nov 30 (Reuters) - Bitcoin jumped past $19,000 on Monday, moving closer to its all-time record after a sharp tumble last week checked its 2020 rally.\r\nIt was last up 5.6% at… [+93 chars] By Reuters Staff\r\nFILE PHOTO: Representations of virtual currency Bitcoin are seen in this picture illustration taken taken March 13, 2020. REUTERS/Dado Ruvic\r\nLONDON (Reuters) - Bitcoin jumped past … [+167 chars] By Reuters Staff\r\nFILE PHOTO: Representations of virtual currency Bitcoin are seen in this picture illustration taken taken March 13, 2020. REUTERS/Dado Ruvic\r\nLONDON (Reuters) - Bitcoin jumped past … [+167 chars] On December 5, the American author and retired politician, Ron Paul, joined the Stephan Livera Podcast episode 234 and discussed cryptocurrencies and bitcoin at great length. During the interview, th… [+6388 chars] LONDON (Reuters) - Bitcoin passed $17,000 on Tuesday to touch its highest level this year, with investors ascribing the gains to demand for its perceived inflation-resistant qualities and expectation… [+2068 chars] By Reuters Staff\r\n(Reuters) - Cryptocurrency startup BlockFi said on Tuesday it would partner with Visa Inc, Evolve Bank and credit card firm Deserve to offer a credit card that lets users earn bitco… [+922 chars] By Reuters Staff\r\nFILE PHOTO: A representation of virtual currency Bitcoin is seen in this illustration taken November 19, 2020. REUTERS/Dado Ruvic/Illustration/File Photo\r\nLONDON (Reuters) - Bitcoin… [+861 chars] Brenton Tarrant, the anti-Muslim terrorist who killed 51 people during two attacks in Christchurch, New Zealand in 2019, abused steroids and donated money to far-right websites and YouTube personalit… [+7116 chars] November\r\n25, 2020\r\n5 min read\r\nThis article was translated from our Spanish edition using AI technologies. Errors may exist due to this process.\r\nThis story originally appeared on Alto NivelBy Guill… [+3817 chars] LONDON/HONG KONG (Reuters) - Bitcoin has grabbed headlines this week with its dizzying ascent to an all-time high. Yet, under the radar, a trend has been playing out that could change the face of the… [+6277 chars] Posted \r\nBitcoin appears to be back in vogue, hovering near three-year highs, but Hilary Kramer of Kramer Capital Research warns investors against chasing the cryptocurrency, which has proven it can … [+92 chars] LONDON/HONG KONG (Reuters) - Bitcoin has grabbed headlines this week with its dizzying ascent to an all-time high. Yet, under the radar, a trend has been playing out that could change the face of the… [+6311 chars] FILE PHOTO: Representations of virtual currency Bitcoin are seen in this picture illustration taken taken March 13, 2020. REUTERS/Dado Ruvic\r\nLONDON (Reuters) - Bitcoin broke through $18,000 (13,543 … [+992 chars] LONDON (Reuters) - Arianna ODell, a 30-year-old entrepreneur and songwriter based in New York City, had a tumultuous four-year journey in cryptocurrency before selling her investments in February.\r\nA… [+5350 chars] LONDON (Reuters) - Arianna ODell, a 30-year-old entrepreneur and songwriter based in New York City, had a tumultuous four-year journey in cryptocurrency before selling her investments in February.\r\nE… [+5336 chars] LONDON (Reuters) - Arianna ODell, a 30-year-old entrepreneur and songwriter based in New York City, had a tumultuous four-year journey in cryptocurrency before selling her investments in February.\r\nE… [+5334 chars] NEW YORK (Reuters) - The worlds largest digital currency asset manager Grayscale said on Wednesday its assets under management soared to a record $10.4 billion, bolstered by the continued rise in inv… [+1800 chars] Technology, Media and Telecommunications\r\nGertrude Chavez-Dreyfuss\r\nNEW YORK, Nov 18 (Reuters) - The worlds largest digital currency asset manager Grayscale said on Wednesday its assets under managem… [+2026 chars] FILE PHOTO: Illumination of the stock graph is seen on the representations of virtual currency Bitcoin in this picture illustration taken taken March 13, 2020. REUTERS/Dado Ruvic/Illustration/File Ph… [+1411 chars] Posted \r\nBitcoin is trading at record highs but there are other so-called alternative investments out there to consider as well, Yieldstreet Co-founder Michael Weisz told Reuters Business Corresponde… [+20 chars] LONDON, Nov 26 (Reuters) - Cryptocurrency exchange Coinbase said on Thursday its retail and professional-focused platforms were hit by tech problems, with users reporting difficulty trading as bitcoi… [+1263 chars] FILE PHOTO: The exchange rates and logos of Bitcoin (BTH), Ether (ETH), Litecoin (LTC) and Bitcoin Cash (BCH) are seen on the display of a cryptocurrency ATM of blockchain payment service provider Va… [+1869 chars] LONDON (Reuters) - S&amp;P Dow Jones Indices, a division of financial data provider S&amp;P Global Inc, said on Thursday that it will launch cryptocurrency indices in 2021, making it the latest major… [+2136 chars] <ul><li>The Winklevoss twins pitched a large purchase of Bitcoin today as the "trade of the century" and predicted the digital currency will soar by 30 times in a recent Real Vision interview.</li><l… [+3102 chars] The price of a bitcoin reached $19,850 today, beating the 2017 record of \xa0$19,783. It\'s since dropped to $19,268. \r\nThe 2017 price surge has been attributed to an influx of Asian speculators, followe… [+1031 chars] (Bloomberg) -- Cyclical companies are powering global equities higher for a second day as investors cheered the start of U.S. President-elect Joe Bidens formal transition and the prospect for more ec… [+4041 chars] Satoshi didn\'t leave much behind when he decided to leave the scene for good back in April, 2011. But, he did leave enough for us to conduct a thorough research into his whereabouts when he was worki… [+1184 chars] NEW YORK (Reuters) - Institutional investors pumped $429 million into cryptocurrency funds and products for the week ended Dec. 7, the second highest on record, pushing the sectors assets under manag… [+1888 chars] NEW YORK (Reuters) - Institutional investors pumped $429 million into cryptocurrency funds and products for the week ended Dec. 7, the second highest on record, pushing the sectors assets under manag… [+1888 chars] By Reuters Staff\r\nFILE PHOTO: The exchange rates and logos of Bitcoin (BTH), Ether (ETH), Litecoin (LTC) and Bitcoin Cash (BCH) are seen on the display of a cryptocurrency ATM of blockchain payment s… [+572 chars] A chain of block erupters used for Bitcoin mining is pictured at the Plug and Play Tech Center in Sunnyvale, California, October 28, 2013.\r\nREUTERS/Stephen Lam\r\n<ul><li>Bitcoin slumped further throug… [+3148 chars] Reuters / Dado Ruvic\r\n<ul><li>JPMorgan strategists said on Tuesday that gold will suffer in the long-term as more institutional investors adopt bitcoin.\xa0</li><li>The strategists noted that in the las… [+2977 chars] If I set here and stare at nothing long enough, people might think\r\nI\'m an engineer working on something.\r\n-- S.R. McElroy Posted \r\nBitcoin soared to a record high against the dollar on Monday, as its 2020 rally steamed ahead, boosted by increased demand from both institutional and retail investors that saw the virtual c… [+90 chars] * Pfizer COVID-19 vaccine trial shows 95% effective\r\n * Dollar index edges down to more than one-week low\r\n * Bitcoin surges above $18,000, but last down on the day\r\n * Euro ticks up, investor ignore… [+4317 chars] * Mnuchin defends decision to end Fed\'s pandemic lending\r\n * Dollar poised to end week on a loss\r\n * Euro, yen little changed vs dollar\r\n * Bitcoin hits fresh three-year high\r\n * Graphic: World FX ra… [+4160 chars] By Reuters Staff\r\n(Reuters) - - 1/ STICKY TALKS\r\nFILE PHOTO: Small toy figures are seen in front of a Brexit logo in this illustration picture, March 30, 2019. REUTERS/Dado Ruvic/Illustration\r\nBritai… [+4505 chars] Posted \r\nBitcoin soared to a record high against the dollar on Monday, as its 2020 rally steamed ahead, boosted by increased demand from both institutional and retail investors that saw the virtual c… [+90 chars] By Reuters Staff\r\n(Reuters) - - 1/ STICKY TALKS\r\nFILE PHOTO: Small toy figures are seen in front of a Brexit logo in this illustration picture, March 30, 2019. REUTERS/Dado Ruvic/Illustration\r\nBritai… [+4505 chars] * New Zealand dollar set to reach more than two-year high\r\n* Commodity-linked currencies gains vs U.S. dollar\r\n* Canadian dollar shy of a two-year high\r\n* Graphic: World FX rates in 2020 tmsnrt.rs/2R… [+3382 chars] (Fixes typo in the euro price in the 11th paragraph)\r\n * Euro, NZ dollar hit highest in more than 2 years\r\n * Sterling rises to three-month high\r\n * U.S bipartisan stimulus proposal sinks greenback\r\n… [+4608 chars] Its been nearly three years since the Bitcoin price has reached a benchmark of over $15k and it doesnt seem to be stopping. But, its not just the price of BTC that is overflowing. New Bitcoin address… [+1453 chars] Visa, PayPal, and Diem, formerly known as Libra, are looking to capitalize on the rapidly growing industry.\r\nVisa is eyeing the cryptocurrency space.\r\nInsider Intelligence\r\n<ul><li>Visa\'s newest cred… [+3671 chars] For anyone serious about mining cryptocurrency such as Bitcoin, we’re well past the point where a standard desktop computer is of much use. While an array of high-end GPUs is still viable for some cu… [+1827 chars] December\r\n15, 2020\r\n6 min read\r\nOpinions expressed by Entrepreneur contributors are their own.\r\nA few days ago newly elected US senator, Cynthia Lummis, endorsed Bitcoin on live television. She spoke… [+6328 chars] PayPal has launched the Generosity Network, a platform that allows users to create customized, personal fundraising campaigns. Yes, just like you can on GoFundMe.\xa0\r\nYou can raise a maximum of $20,000… [+1601 chars] November\r\n18, 2020\r\n2 min read\r\nThis article was translated from our Spanish edition using AI technologies. Errors may exist due to this process.\r\nFor the first time in almost three years the price o… [+1054 chars] FILE PHOTO: A sign of China Construction Bank is seen at its booth at the 2020 China International Fair for Trade in Services (CIFTIS) in Beijing, China September 4, 2020. REUTERS/Tingshu Wang\r\nFutur… [+1390 chars] By Reuters Staff\r\nFILE PHOTO: A man walks past the New York Stock Exchange in the Manhattan borough of New York City, two days after the 2020 U.S. presidential election, New York, U.S., November 5, 2… [+1725 chars]'
In [70]:
# Run the NER processor on all of the text
bitcoin_doc = nlp(bitcoin_text)

# Add a title to the document
bitcoin_doc.user_data["title"] = "Bitcoin NER"
In [71]:
# Render the visualization
displacy.render(bitcoin_doc, style='ent')
Bitcoin NER
Visa ORG  has partnered with cryptocurrency startup BlockFi to offer the first ORDINAL rewards credit card that pays out in Bitcoin GPE rather than cash, but is it worth applying for? Unless youre extremely bullish o… [+2239 chars] In November 2017 DATE , after an absolutely massive, two-month DATE rally, Bitcoin GPE passed $ 10,000 MONEY for the first ORDINAL time. And then, over the next 20 days DATE , it soared even higher, reaching a price of $ 19,665 MONEY and roug… [+6738 chars] Unlike ‘conventional’ cryptocurrencies, a central bank controls digital yuan ORG — in this case, the People’s Bank of China ORG . The move gives the country more power and, in theory, more stability than freq… [+366 chars] If youve been watching the crypto markets over the past few weeks DATE youll have noticed something special: bitcoin GPE , everyones favorite decentralized digital ORG currency based on hype GPE , lies, and general mal… [+2490 chars] Six years DATE after the launch of the Mexico GPE -based crypotcurrency exchange and financial services platform Bitso the company revealed it has closed on $62 million MONEY in financing to capitalize on the crypto… [+4328 chars] Decentralized GPE exchange protocols that allow crypto traders and investors to trade across different blockhains have been in development for a while. A significant new development now comes with the la… [+3079 chars] 4 CARDINAL . U.S. GPE markets ended November DATE with large gains. Even with a small decline today DATE , the S&amp;P 500 CARDINAL jumped by 10.8 percent PERCENT in November DATE , its best monthly DATE showing since April DATE and the fourth ORDINAL -best month … [+535 chars] Illustration by Grayson Blackmon / PERSON The Verge One of the wildest stories of the year DATE was the day DATE some of the most-followed Twitter ORG accounts on the planet posted cryptocurrency scams because of a… [+4340 chars] Maisie Williams PERSON also known as Arya Stark PERSON , daughter of Lady Catelyn PERSON and Lord Eddard PERSON , acolyte PERSON of the Faceless Men WORK_OF_ART , you know the one is considering buying some bitcoins.  On Monday DATE , she asked her Twitt… [+1512 chars] 8 CARDINAL with 7 CARDINAL posters participating Bitcoin GPE rose above $18,000 MONEY on Tuesday DATE evening TIME , reaching its highest value since December 2017 DATE . Indeed, prior to this week DATE bitcoin has only been worth more than $18,000 MONEY … [+1796 chars] FILE PHOTO: Representations of virtual currency Bitcoin GPE are seen in this picture illustration taken taken March 13, 2020 DATE . REUTERS/ ORG Dado Ruvic//File Photo Future of Money Tom Wilson PERSON Gertrude Chavez-… [+2623 chars] By Justin HarperBusiness ORG reporter, BBC News ORG image copyrightGetty Images Bitcoin GPE , the world's best-known cryptocurrency, has jumped above $17,000 MONEY (£ 12,800 MONEY ) to hit a three-year DATE high. The digital cur… [+3044 chars] Posted Bitcoin GPE has grabbed headlines this week DATE with its ascent to an all-time high. Yet, a trend has been playing out that could change the face of the cryptocurrency market: a massive flow of coin… [+51 chars] By Reuters ORG Staff FILE PHOTO: A representation of virtual currency Bitcoin GPE is seen in this illustration taken November 19, 2020 DATE . REUTERS/Dado Ruvic/Illustration ORG TOKYO ( Reuters ORG ) - Bitcoin GPE dropped to … [+219 chars] FILE PHOTO: Representation of the Ethereum virtual currency standing on the PC motherboard is seen in this illustration picture, February 3, 2018 DATE . REUTERS/ ORG Dado Ruvic/Illustration LONDON ( Reuters ORG ) - … [+1237 chars] LONDON GPE ( Reuters ORG ) - Digital currencies Ethereum and XRP ORG soared on Monday DATE , gaining momentum as bitcoin powered on towards its all-time high. FILE PHOTO: Representation of the Ethereum virtual currency… [+1950 chars] By Reuters ORG Staff FILE PHOTO: Representations of virtual currency Bitcoin GPE are placed on U.S. GPE Dollar banknotes in this illustration taken May 26, 2020 DATE . REUTERS/ ORG Dado Ruvic/Illustration LONDON ( Reuters ORG … [+463 chars] By Reuters ORG Staff FILE PHOTO: Representations of virtual currency Bitcoin GPE are placed on U.S. GPE Dollar banknotes in this illustration taken May 26, 2020 DATE . REUTERS/ ORG Dado Ruvic/Illustration LONDON ( Reuters ORG … [+463 chars] FILE PHOTO: Representation of the Ethereum virtual currency standing on the PC motherboard is seen in this illustration picture, February 3, 2018 DATE . REUTERS/ ORG Dado Ruvic/Illustration LONDON ( Reuters ORG ) - … [+1237 chars] By Reuters ORG Staff A representation of virtual currency Bitcoin GPE is seen in this illustration taken November 19, 2020 DATE . REUTERS/Dado Ruvic/Illustration ORG TOKYO ( Reuters ORG ) - Bitcoin GPE dropped to $17,657.53 o… [+207 chars] By Reuters ORG Staff FILE PHOTO: Representations of virtual currency Bitcoin GPE are seen in this picture illustration taken taken March 13, 2020 DATE . REUTERS/ Dado Ruvic PERSON LONDON GPE /NEW YORK ( Reuters ORG ) - Bitcoin GPE jum… [+438 chars] LONDON GPE ( Reuters ORG ) - Is it an inflation hedge? A currency? Or just another niche asset to take a punt on? Bitcoin GPE is in the headlines, re-kindling a debate over its true role and the drivers behind its… [+2966 chars] LONDON GPE ( Reuters ORG ) - Is it an inflation hedge? A currency? Or just another niche asset to take a punt on? Bitcoin GPE is in the headlines, re-kindling a debate over its true role and the drivers behind its… [+2895 chars] By Reuters ORG Staff A representation of virtual currency Bitcoin GPE is seen in this illustration taken November 19, 2020 DATE . REUTERS/ ORG Dado Ruvic/Illustration NEW YORK ( Reuters ORG ) - Bitcoin BTC=BTSP rose to a n… [+1407 chars] By Reuters ORG Staff A representation of virtual currency Bitcoin GPE is seen in this illustration taken November 19, 2020 DATE . REUTERS/ ORG Dado Ruvic/Illustration NEW YORK ( Reuters ORG ) - Bitcoin BTC=BTSP rose to a n… [+1388 chars] LONDON GPE ( Reuters ORG ) - Is it an inflation hedge? A currency? Or just another niche asset to take a punt on? Bitcoin GPE is in the headlines, re-kindling a debate over its true role and the drivers behind its… [+2814 chars] FILE PHOTO: A representation of virtual currency Bitcoin GPE is seen in front of a stock graph in this illustration taken November 19, 2020 DATE . REUTERS/ Dado Ruvic PERSON ( Reuters ORG ) - Bitcoin GPE is still too volatile … [+1583 chars] FILE PHOTO: A representation of virtual currency Bitcoin GPE is seen in front of a stock graph in this illustration taken November 19, 2020 DATE . REUTERS/ Dado Ruvic PERSON ( Reuters ORG ) - Bitcoin GPE is still too volatile … [+1583 chars] FILE PHOTO: A representation of virtual currency Bitcoin GPE is seen in front of a stock graph in this illustration taken November 19, 2020 DATE . REUTERS/ Dado Ruvic PERSON ( Reuters ORG ) - Bitcoin GPE is still too volatile … [+1583 chars] A representation of virtual currency Bitcoin GPE is seen in this illustration taken November 19, 2020 DATE . REUTERS/ ORG Dado Ruvic/Illustration LONDON ( Reuters ORG ) - Bitcoin GPE hit $ 19,000 MONEY on Tuesday DATE for the first ORDINAL tim PERSON … [+492 chars] By Saikat Chatterjee PERSON A representation of virtual currency Bitcoin GPE is seen in this illustration taken November 19, 2020 DATE . REUTERS/ ORG Dado Ruvic/Illustration LONDON ( Reuters ORG ) - Bitcoin GPE hit $ 19,000 MONEY on Tue… [+514 chars] Looks like the cat is out of the bag. I’m very excited to be joining the executive team at Twitter ORG ! I truly believe in the mission of (equitably) serving the public conversation. I will do my best… [+1834 chars] NEW YORK PERSON ( Reuters ORG ) - Bitcoin GPE investors, which include top hedge funds and money managers, are betting the virtual currency could more than quintuple to as high as $100,000 MONEY in a year DATE . FILE PHOTO: A B… [+3987 chars] NEW YORK GPE ( Reuters ORG ) - Bitcoin GPE investors, which include top hedge funds and money managers, are betting the virtual currency could more than quintuple to as high as $100,000 MONEY in a year DATE . FILE PHOTO: A B… [+3987 chars] By Reuters ORG Staff FILE PHOTO: Representations of virtual currency Bitcoin GPE are placed on U.S. GPE Dollar banknotes in this illustration taken May 26, 2020 DATE . REUTERS/ ORG Dado Ruvic/Illustration LONDON ( Reuters ORG … [+909 chars] By Gertrude Chavez-Dreyfuss PERSON NEW YORK ( Reuters ORG ) - Bitcoin GPE investors, which include top hedge funds and money managers, are betting the virtual currency could more than quintuple to as high as $100,00 MONEY … [+4016 chars] By Tom Wilson PERSON , Gertrude Chavez-Dreyfuss PERSON LONDON GPE /NEW YORK ( Reuters ORG ) - Bitcoin GPE on Tuesday DATE soared to its highest level since December 2017 DATE as the assets perceived quality as a hedge against inflation an… [+2383 chars] LONDON GPE ( Reuters ORG ) - Bitcoin GPE passed $ 17,000 MONEY on Tuesday DATE to touch its highest level this year DATE , with investors ascribing the gains to demand for its perceived inflation-resistant qualities and expectation… [+2152 chars] LONDON GPE /NEW YORK ( Reuters ORG ) - Bitcoin GPE on Tuesday DATE soared to its highest level since December 2017 DATE as the assets perceived quality as a hedge against inflation and expectations of mainstream acceptance l… [+2342 chars] NEW YORK GPE ( Reuters ORG ) - Bitcoin GPE investors, which include top hedge funds and money managers, are betting the virtual currency could more than quintuple to as high as $100,000 MONEY in a year DATE . FILE PHOTO: A B… [+3912 chars] SHANGHAI/HONG KONG ORG ( Reuters ORG ) - As the price of bitcoin soars, Chinese NORP cryptocurrency asset managers are looking to expand in places such as Hong Kong GPE and Singapore GPE , skirting an intensified crackdown … [+2855 chars] By Reuters ORG Staff FILE PHOTO: A representation of virtual currency Bitcoin GPE is seen in front of a stock graph in this illustration taken November 19, 2020 DATE . REUTERS/ ORG Dado Ruvic/Illustration/File photo … [+336 chars] LONDON GPE ( Reuters ORG ) - With bitcoin surging to the cusp of its 2017 DATE all-time high, backers are hoping fewer frenzied retail investors means less chance of a crash this time around. FILE PHOTO: A Bitcoin GPE … [+3938 chars] By Reuters ORG Staff FILE PHOTO: Representations of virtual currency Bitcoin GPE are seen in this picture illustration taken taken March 13, 2020 DATE . REUTERS/ Dado Ruvic PERSON LONDON GPE ( Reuters ORG ) - Bitcoin GPE on Wednesday DATE … [+153 chars] SHANGHAI/HONG KONG ORG ( Reuters ORG ) - As the price of bitcoin soars, Chinese NORP cryptocurrency asset managers are looking to expand in places such as Hong Kong GPE and Singapore GPE , skirting an intensified crackdown … [+2855 chars] By Samuel Shen PERSON , Alun John PERSON SHANGHAI/HONG KONG ( Reuters ORG ) - As the price of bitcoin soars, Chinese NORP cryptocurrency asset managers are looking to expand in places such as Hong Kong GPE and Singapore GPE , skirtin… [+2882 chars] SHANGHAI/HONG KONG ORG ( Reuters ORG ) - As the price of bitcoin soars, Chinese NORP cryptocurrency asset managers are looking to expand in places such as Hong Kong GPE and Singapore GPE , skirting an intensified crackdown … [+2869 chars] ( Repeats PERSON to fix format, no change to text) NEW YORK GPE , Nov 24 ORG ( Reuters ORG ) - Bitcoin GPE investors, which include top hedge funds and money managers, are betting the virtual currency could more than quintupl… [+3752 chars] By Reuters ORG Staff FILE PHOTO: Representations of virtual currency Bitcoin GPE are seen in this picture illustration taken taken March 13, 2020 DATE . REUTERS/ Dado Ruvic PERSON LONDON GPE ( Reuters ORG ) - Bitcoin GPE on Wednesday DATE … [+153 chars] By Reuters ORG Staff FILE PHOTO: A representation of virtual currency Bitcoin GPE is seen in front of a stock graph in this illustration taken November 19, 2020 DATE . REUTERS/ ORG Dado Ruvic/Illustration/File photo … [+336 chars] By Reuters ORG Staff LONDON GPE , Nov 30 DATE ( Reuters ORG ) - Bitcoin GPE jumped past $ 19,000 MONEY on Monday DATE , moving closer to its all-time record after a sharp tumble last week DATE checked its 2020 DATE rally. It was last up 5.6% PERCENT at… [+93 chars] By Reuters ORG Staff FILE PHOTO: Representations of virtual currency Bitcoin GPE are seen in this picture illustration taken taken March 13, 2020 DATE . REUTERS/ Dado Ruvic PERSON LONDON GPE ( Reuters ORG ) - Bitcoin GPE jumped past … [+167 chars] By Reuters ORG Staff FILE PHOTO: Representations of virtual currency Bitcoin GPE are seen in this picture illustration taken taken March 13, 2020 DATE . REUTERS/ Dado Ruvic PERSON LONDON GPE ( Reuters ORG ) - Bitcoin GPE jumped past … [+167 chars] On December 5 DATE , the American NORP author and retired politician, Ron Paul PERSON , joined the Stephan Livera Podcast LOC episode 234 CARDINAL and discussed cryptocurrencies and bitcoin at great length. During the interview, th… [+6388 chars] LONDON GPE ( Reuters ORG ) - Bitcoin GPE passed $ 17,000 MONEY on Tuesday DATE to touch its highest level this year DATE , with investors ascribing the gains to demand for its perceived inflation-resistant qualities and expectation… [+2068 chars] By Reuters ORG Staff ( Reuters ORG ) - Cryptocurrency startup BlockFi said on Tuesday DATE it would partner with Visa Inc ORG , Evolve Bank ORG and credit card firm Deserve ORG to offer a credit card that lets users earn bitco… [+922 chars] By Reuters ORG Staff FILE PHOTO: A representation of virtual currency Bitcoin GPE is seen in this illustration taken November 19, 2020 DATE . REUTERS/ ORG Dado Ruvic/Illustration/File Photo LONDON GPE ( Reuters ORG ) - Bitcoin GPE … [+861 chars] Brenton Tarrant ORG , the anti-Muslim NORP terrorist who killed 51 CARDINAL people during two CARDINAL attacks in Christchurch GPE , New Zealand GPE in 2019 DATE , abused steroids and donated money to far-right websites and YouTube PRODUCT personalit… [+7116 chars] November DATE 25 DATE , 2020 DATE 5 CARDINAL min read This article was translated from our Spanish NORP edition using AI GPE technologies. Errors may exist due to this process. This story originally appeared on Alto NivelBy Guill WORK_OF_ART … [+3817 chars] LONDON GPE / HONG KONG GPE ( Reuters ORG ) - Bitcoin GPE has grabbed headlines this week DATE with its dizzying ascent to an all-time high. Yet, under the radar, a trend has been playing out that could change the face of the… [+6277 chars] Posted Bitcoin GPE appears to be back in vogue, hovering near three-year DATE highs, but Hilary Kramer PERSON of Kramer Capital Research ORG warns investors against chasing the cryptocurrency, which has proven it can … [+92 chars] LONDON GPE / HONG KONG GPE ( Reuters ORG ) - Bitcoin GPE has grabbed headlines this week DATE with its dizzying ascent to an all-time high. Yet, under the radar, a trend has been playing out that could change the face of the… [+6311 chars] FILE PHOTO: Representations of virtual currency Bitcoin GPE are seen in this picture illustration taken taken March 13, 2020 DATE . REUTERS/ Dado Ruvic PERSON LONDON GPE ( Reuters ORG ) - Bitcoin GPE broke through $ 18,000 MONEY ( 13,543 CARDINAL … [+992 chars] LONDON GPE ( Reuters ORG ) - Arianna ODell ORG , a 30-year-old DATE entrepreneur and songwriter based in New York City GPE , had a tumultuous four-year DATE journey in cryptocurrency before selling her investments in February DATE . A… [+5350 chars] LONDON GPE ( Reuters ORG ) - Arianna ODell ORG , a 30-year-old DATE entrepreneur and songwriter based in New York City GPE , had a tumultuous four-year DATE journey in cryptocurrency before selling her investments in February DATE . E… [+5336 chars] LONDON GPE ( Reuters ORG ) - Arianna ODell ORG , a 30-year-old DATE entrepreneur and songwriter based in New York City GPE , had a tumultuous four-year DATE journey in cryptocurrency before selling her investments in February DATE . E… [+5334 chars] NEW YORK PERSON ( Reuters ORG ) - The worlds largest digital currency asset manager Grayscale ORG said on Wednesday DATE its assets under management soared to a record $10.4 billion MONEY , bolstered by the continued rise in inv… [+1800 chars] Technology, Media and Telecommunications ORG Gertrude Chavez-Dreyfuss PERSON NEW YORK, Nov 18 ( Reuters ORG ) - The worlds largest digital currency asset manager Grayscale ORG said on Wednesday DATE its assets under managem… [+2026 chars] FILE PHOTO: Illumination of the stock graph is seen on the representations of virtual currency Bitcoin GPE in this picture illustration taken taken March 13, 2020 DATE . REUTERS/Dado Ruvic/Illustration/File Ph ORG … [+1411 chars] Posted Bitcoin GPE is trading at record highs but there are other so-called alternative investments out there to consider as well, Yieldstreet Co- PERSON founder Michael Weisz PERSON told Reuters Business Corresponde ORG … [+20 chars] LONDON GPE , Nov 26 DATE ( Reuters ORG ) - Cryptocurrency exchange Coinbase said on Thursday DATE its retail and professional-focused platforms were hit by tech problems, with users reporting difficulty trading as bitcoi… [+1263 chars] FILE PHOTO: The exchange rates and logos of Bitcoin GPE (BTH), Ether PERSON ( ETH PERSON ), Litecoin PERSON (LTC) and Bitcoin Cash PERSON ( BCH ORG ) are seen on the display of a cryptocurrency ATM of blockchain payment service provider Va… [+1869 chars] LONDON GPE ( Reuters ORG ) - S&amp;P Dow Jones Indices ORG , a division of financial data provider S&amp;P Global Inc ORG , said on Thursday DATE that it will launch cryptocurrency indices in 2021 DATE , making it the latest major… [+2136 chars] < ul><li PERSON >The Winklevoss PERSON twins pitched a large purchase of Bitcoin GPE today DATE as the "trade of the century DATE " and predicted the digital ORG currency will soar by 30 CARDINAL times in a recent Real Vision interview.</li><l… [+3102 chars] The price of a bitcoin reached $ 19,850 MONEY today DATE , beating the 2017 DATE record of  $ 19,783 MONEY . It's since dropped to $ 19,268 MONEY . The 2017 DATE price surge has been attributed to an influx of Asian NORP speculators, followe… [+1031 chars] ( Bloomberg WORK_OF_ART ) -- Cyclical companies are powering global equities higher for a second day DATE as investors cheered the start of U.S. GPE President-elect Joe Bidens PERSON formal transition and the prospect for more ec… [+4041 chars] Satoshi didn't leave much behind when he decided to leave the scene for good back in April, 2011 DATE . But, he did leave enough for us to conduct a thorough research into his whereabouts when he was worki… [+1184 chars] NEW YORK GPE ( Reuters ORG ) - Institutional investors pumped $429 million MONEY into cryptocurrency funds and products for the week ended Dec. 7 DATE , the second ORDINAL highest on record, pushing the sectors assets under manag… [+1888 chars] NEW YORK PERSON ( Reuters ORG ) - Institutional investors pumped $429 million MONEY into cryptocurrency funds and products for the week ended Dec. 7 DATE , the second ORDINAL highest on record, pushing the sectors assets under manag… [+1888 chars] By Reuters ORG Staff FILE PHOTO: The exchange rates and logos of Bitcoin GPE (BTH), Ether PERSON ( ETH PERSON ), Litecoin PERSON (LTC) and Bitcoin Cash PERSON ( BCH ORG ) are seen on the display of a cryptocurrency ATM of blockchain payment s… [+572 chars] A chain of block erupters used for Bitcoin GPE mining is pictured at the Plug and Play Tech Center ORG in Sunnyvale GPE , California GPE , October 28, 2013 DATE . REUTERS/Stephen Lam ORG <ul><li> Bitcoin GPE slumped further throug… [+3148 chars] Reuters ORG / Dado Ruvic PERSON < ul><li PERSON > JPMorgan ORG strategists said on Tuesday DATE that gold will suffer in the long-term as more institutional investors adopt bitcoin. </li><li>The strategists noted that in the las… [+2977 chars] If I set here and stare at nothing long enough, people might think I'm an engineer working on something. -- S.R. McElroy Posted Bitcoin soared to a record high against the dollar on Monday DATE , as its 2020 DATE rally steamed ahead, boosted by increased demand from both institutional and retail investors that saw the virtual c… [+90 chars] * Pfizer COVID-19 vaccine trial shows 95% PERCENT effective * Dollar index edges down to more than one-week CARDINAL low * Bitcoin GPE surges above $18,000 MONEY , but last down on the day DATE * Euro ticks up, investor ignore… [+4317 chars] * Mnuchin defends decision to end Fed ORG 's pandemic lending * Dollar poised to end week DATE on a loss * Euro, yen little changed vs dollar * Bitcoin GPE hits fresh three-year DATE high * Graphic: World FX ra… [+4160 chars] By Reuters ORG Staff ( Reuters ORG ) - - 1/ STICKY TALKS FILE PHOTO: Small toy figures are seen in front of a Brexit ORG logo in this illustration picture, March 30, 2019 DATE . REUTERS/ ORG Dado Ruvic/Illustration Britai… [+4505 chars] Posted Bitcoin GPE soared to a record high against the dollar on Monday DATE , as its 2020 DATE rally steamed ahead, boosted by increased demand from both institutional and retail investors that saw the virtual c… [+90 chars] By Reuters ORG Staff ( Reuters ORG ) - - 1/ STICKY TALKS FILE PHOTO: Small toy figures are seen in front of a Brexit ORG logo in this illustration picture, March 30, 2019 DATE . REUTERS/ ORG Dado Ruvic/Illustration Britai… [+4505 chars] * New Zealand GPE dollar set to reach more than two-year CARDINAL high * Commodity-linked currencies gains vs U.S. GPE dollar * Canadian NORP dollar shy of a two-year DATE high * Graphic: World FX rates in 2020 DATE tmsnrt.rs/2R… [+3382 chars] ( Fixes PERSON typo in the euro price in the 11th ORDINAL paragraph) * Euro, NZ ORG dollar hit highest in more than 2 years DATE * Sterling rises to three-month DATE high * U.S bipartisan stimulus proposal sinks greenback … [+4608 chars] Its been nearly three years DATE since the Bitcoin GPE price has reached a benchmark of over $15k MONEY and it doesnt seem to be stopping. But, its not just the price of BTC ORG that is overflowing. New Bitcoin GPE address… [+1453 chars] Visa ORG , PayPal PRODUCT , and Diem ORG , formerly known as Libra GPE , are looking to capitalize on the rapidly growing industry. Visa ORG is eyeing the cryptocurrency space. Insider Intelligence <ul><li> Visa ORG 's newest cred… [+3671 chars] For anyone serious about mining cryptocurrency such as Bitcoin GPE , we’re well past the point where a standard desktop computer is of much use. While an array of high-end GPUs is still viable for some cu… [+1827 chars] December DATE 15 DATE , 2020 DATE 6 min QUANTITY read Opinions expressed by Entrepreneur contributors are their own. A few days ago DATE newly elected US GPE senator, Cynthia Lummis PERSON , endorsed Bitcoin GPE on live television. She spoke… [+6328 chars] PayPal PERSON has launched the Generosity Network ORG , a platform that allows users to create customized, personal fundraising campaigns. Yes, just like you can on GoFundMe.  You can raise a maximum of $ 20,000 MONEY … [+1601 chars] November DATE 18 DATE , 2020 DATE 2 CARDINAL min read This article was translated from our Spanish NORP edition using AI GPE technologies. Errors may exist due to this process. For the first ORDINAL time in almost three years DATE the price o… [+1054 chars] FILE PHOTO: A sign of China Construction Bank ORG is seen at its booth at the 2020 DATE China International Fair for Trade in Services EVENT (CIFTIS) in Beijing GPE , China GPE September 4, 2020 DATE . REUTERS/ Tingshu Wang PERSON Futur GPE … [+1390 chars] By Reuters ORG Staff FILE PHOTO: A man walks past the New York Stock Exchange ORG in the Manhattan GPE borough of New York City GPE , two days DATE after the 2020 DATE U.S. GPE presidential election, New York GPE , U.S. GPE , November 5 DATE , 2… [+1725 chars]
In [82]:
# List all Entities
for ent in bitcoin_doc.ents:
    print(ent.text + ' ' + ent.label_)
Visa ORG
first ORDINAL
Bitcoin GPE
November 2017 DATE
two-month DATE
Bitcoin GPE
10,000 MONEY
first ORDINAL
the next 20 days DATE
19,665 MONEY
digital yuan ORG
the People’s Bank of China ORG
the past few weeks DATE
bitcoin GPE
digital ORG
hype GPE
Six years DATE
Mexico GPE
$62 million MONEY
Decentralized GPE
4 CARDINAL
U.S. GPE
November DATE
today DATE
500 CARDINAL
10.8 percent PERCENT
November DATE
monthly DATE
April DATE
fourth ORDINAL
Grayson Blackmon / PERSON
the year DATE
the day DATE
Twitter ORG
Maisie Williams PERSON
Arya Stark PERSON
Lady Catelyn PERSON
Eddard PERSON
acolyte PERSON
the Faceless Men WORK_OF_ART
Monday DATE
8 CARDINAL
7 CARDINAL
Bitcoin GPE
above $18,000 MONEY
Tuesday DATE
evening TIME
December 2017 DATE
this week DATE
more than $18,000 MONEY
Bitcoin GPE
March 13, 2020 DATE
REUTERS/ ORG
Tom Wilson PERSON
Justin HarperBusiness ORG
BBC News ORG
Bitcoin GPE
above $17,000 MONEY
12,800 MONEY
three-year DATE
Bitcoin GPE
this week DATE
Reuters ORG
Bitcoin GPE
November 19, 2020 DATE
REUTERS/Dado Ruvic/Illustration ORG
Reuters ORG
Bitcoin GPE
February 3, 2018 DATE
REUTERS/ ORG
Reuters ORG
LONDON GPE
Reuters ORG
XRP ORG
Monday DATE
Reuters ORG
Bitcoin GPE
U.S. GPE
May 26, 2020 DATE
REUTERS/ ORG
Reuters ORG
Reuters ORG
Bitcoin GPE
U.S. GPE
May 26, 2020 DATE
REUTERS/ ORG
Reuters ORG
February 3, 2018 DATE
REUTERS/ ORG
Reuters ORG
Reuters ORG
Bitcoin GPE
November 19, 2020 DATE
REUTERS/Dado Ruvic/Illustration ORG
Reuters ORG
Bitcoin GPE
Reuters ORG
Bitcoin GPE
March 13, 2020 DATE
Dado Ruvic PERSON
LONDON GPE
Reuters ORG
Bitcoin GPE
LONDON GPE
Reuters ORG
Bitcoin GPE
LONDON GPE
Reuters ORG
Bitcoin GPE
Reuters ORG
Bitcoin GPE
November 19, 2020 DATE
REUTERS/ ORG
Reuters ORG
Reuters ORG
Bitcoin GPE
November 19, 2020 DATE
REUTERS/ ORG
Reuters ORG
LONDON GPE
Reuters ORG
Bitcoin GPE
Bitcoin GPE
November 19, 2020 DATE
Dado Ruvic PERSON
Reuters ORG
Bitcoin GPE
Bitcoin GPE
November 19, 2020 DATE
Dado Ruvic PERSON
Reuters ORG
Bitcoin GPE
Bitcoin GPE
November 19, 2020 DATE
Dado Ruvic PERSON
Reuters ORG
Bitcoin GPE
Bitcoin GPE
November 19, 2020 DATE
REUTERS/ ORG
Reuters ORG
Bitcoin GPE
19,000 MONEY
Tuesday DATE
first ORDINAL
tim PERSON
Saikat Chatterjee PERSON
Bitcoin GPE
November 19, 2020 DATE
REUTERS/ ORG
Reuters ORG
Bitcoin GPE
19,000 MONEY
Twitter ORG
NEW YORK PERSON
Reuters ORG
Bitcoin GPE
as high as $100,000 MONEY
a year DATE
NEW YORK GPE
Reuters ORG
Bitcoin GPE
as high as $100,000 MONEY
a year DATE
Reuters ORG
Bitcoin GPE
U.S. GPE
May 26, 2020 DATE
REUTERS/ ORG
Reuters ORG
Chavez-Dreyfuss PERSON
Reuters ORG
Bitcoin GPE
as high as $100,00 MONEY
Tom Wilson PERSON
Chavez-Dreyfuss PERSON
LONDON GPE
Reuters ORG
Bitcoin GPE
Tuesday DATE
December 2017 DATE
LONDON GPE
Reuters ORG
Bitcoin GPE
17,000 MONEY
Tuesday DATE
this year DATE
LONDON GPE
Reuters ORG
Bitcoin GPE
Tuesday DATE
December 2017 DATE
NEW YORK GPE
Reuters ORG
Bitcoin GPE
as high as $100,000 MONEY
a year DATE
SHANGHAI/HONG KONG ORG
Reuters ORG
Chinese NORP
Hong Kong GPE
Singapore GPE
Reuters ORG
Bitcoin GPE
November 19, 2020 DATE
REUTERS/ ORG
LONDON GPE
Reuters ORG
2017 DATE
Bitcoin GPE
Reuters ORG
Bitcoin GPE
March 13, 2020 DATE
Dado Ruvic PERSON
LONDON GPE
Reuters ORG
Bitcoin GPE
Wednesday DATE
SHANGHAI/HONG KONG ORG
Reuters ORG
Chinese NORP
Hong Kong GPE
Singapore GPE
Samuel Shen PERSON
Alun John PERSON
Reuters ORG
Chinese NORP
Hong Kong GPE
Singapore GPE
SHANGHAI/HONG KONG ORG
Reuters ORG
Chinese NORP
Hong Kong GPE
Singapore GPE
Repeats PERSON
NEW YORK GPE
Nov 24 ORG
Reuters ORG
Bitcoin GPE
Reuters ORG
Bitcoin GPE
March 13, 2020 DATE
Dado Ruvic PERSON
LONDON GPE
Reuters ORG
Bitcoin GPE
Wednesday DATE
Reuters ORG
Bitcoin GPE
November 19, 2020 DATE
REUTERS/ ORG
Reuters ORG
LONDON GPE
Nov 30 DATE
Reuters ORG
Bitcoin GPE
19,000 MONEY
Monday DATE
last week DATE
2020 DATE
5.6% PERCENT
Reuters ORG
Bitcoin GPE
March 13, 2020 DATE
Dado Ruvic PERSON
LONDON GPE
Reuters ORG
Bitcoin GPE
Reuters ORG
Bitcoin GPE
March 13, 2020 DATE
Dado Ruvic PERSON
LONDON GPE
Reuters ORG
Bitcoin GPE
December 5 DATE
American NORP
Ron Paul PERSON
the Stephan Livera Podcast LOC
234 CARDINAL
LONDON GPE
Reuters ORG
Bitcoin GPE
17,000 MONEY
Tuesday DATE
this year DATE
Reuters ORG
Reuters ORG
Tuesday DATE
Visa Inc ORG
Evolve Bank ORG
Deserve ORG
Reuters ORG
Bitcoin GPE
November 19, 2020 DATE
REUTERS/ ORG
LONDON GPE
Reuters ORG
Bitcoin GPE
Brenton Tarrant ORG
anti-Muslim NORP
51 CARDINAL
two CARDINAL
Christchurch GPE
New Zealand GPE
2019 DATE
YouTube PRODUCT
November DATE
25 DATE
2020 DATE
5 CARDINAL
Spanish NORP
AI GPE
Alto NivelBy Guill WORK_OF_ART
LONDON GPE
HONG KONG GPE
Reuters ORG
Bitcoin GPE
this week DATE
Bitcoin GPE
three-year DATE
Hilary Kramer PERSON
Kramer Capital Research ORG
LONDON GPE
HONG KONG GPE
Reuters ORG
Bitcoin GPE
this week DATE
Bitcoin GPE
March 13, 2020 DATE
Dado Ruvic PERSON
LONDON GPE
Reuters ORG
Bitcoin GPE
18,000 MONEY
13,543 CARDINAL
LONDON GPE
Reuters ORG
Arianna ODell ORG
30-year-old DATE
New York City GPE
four-year DATE
February DATE
LONDON GPE
Reuters ORG
Arianna ODell ORG
30-year-old DATE
New York City GPE
four-year DATE
February DATE
LONDON GPE
Reuters ORG
Arianna ODell ORG
30-year-old DATE
New York City GPE
four-year DATE
February DATE
NEW YORK PERSON
Reuters ORG
Grayscale ORG
Wednesday DATE
a record $10.4 billion MONEY
Media and Telecommunications ORG
Chavez-Dreyfuss PERSON
Reuters ORG
Grayscale ORG
Wednesday DATE
Bitcoin GPE
March 13, 2020 DATE
REUTERS/Dado Ruvic/Illustration/File Ph ORG
Bitcoin GPE
Yieldstreet Co- PERSON
Michael Weisz PERSON
Reuters Business Corresponde ORG
LONDON GPE
Nov 26 DATE
Reuters ORG
Thursday DATE
Bitcoin GPE
Ether PERSON
ETH PERSON
Litecoin PERSON
Bitcoin Cash PERSON
BCH ORG
LONDON GPE
Reuters ORG
Dow Jones Indices ORG
Global Inc ORG
Thursday DATE
2021 DATE
ul><li PERSON
Winklevoss PERSON
Bitcoin GPE
today DATE
the century DATE
digital ORG
30 CARDINAL
19,850 MONEY
today DATE
2017 DATE
19,783 MONEY
19,268 MONEY
2017 DATE
Asian NORP
Bloomberg WORK_OF_ART
a second day DATE
U.S. GPE
Joe Bidens PERSON
April, 2011 DATE
NEW YORK GPE
Reuters ORG
$429 million MONEY
the week ended Dec. 7 DATE
second ORDINAL
NEW YORK PERSON
Reuters ORG
$429 million MONEY
the week ended Dec. 7 DATE
second ORDINAL
Reuters ORG
Bitcoin GPE
Ether PERSON
ETH PERSON
Litecoin PERSON
Bitcoin Cash PERSON
BCH ORG
Bitcoin GPE
the Plug and Play Tech Center ORG
Sunnyvale GPE
California GPE
October 28, 2013 DATE
REUTERS/Stephen Lam ORG
Bitcoin GPE
Reuters ORG
Dado Ruvic PERSON
ul><li PERSON
JPMorgan ORG
Tuesday DATE
Monday DATE
2020 DATE
95% PERCENT
more than one-week CARDINAL
Bitcoin GPE
above $18,000 MONEY
the day DATE
Fed ORG
end week DATE
Bitcoin GPE
three-year DATE
Reuters ORG
Reuters ORG
Brexit ORG
March 30, 2019 DATE
REUTERS/ ORG
Bitcoin GPE
Monday DATE
2020 DATE
Reuters ORG
Reuters ORG
Brexit ORG
March 30, 2019 DATE
REUTERS/ ORG
New Zealand GPE
more than two-year CARDINAL
U.S. GPE
Canadian NORP
two-year DATE
2020 DATE
Fixes PERSON
11th ORDINAL
NZ ORG
more than 2 years DATE
three-month DATE
nearly three years DATE
Bitcoin GPE
over $15k MONEY
BTC ORG
New Bitcoin GPE
Visa ORG
PayPal PRODUCT
Diem ORG
Libra GPE
Visa ORG
Visa ORG
Bitcoin GPE
December DATE
15 DATE
2020 DATE
6 min QUANTITY
A few days ago DATE
US GPE
Cynthia Lummis PERSON
Bitcoin GPE
PayPal PERSON
the Generosity Network ORG
20,000 MONEY
November DATE
18 DATE
2020 DATE
2 CARDINAL
Spanish NORP
AI GPE
first ORDINAL
almost three years DATE
China Construction Bank ORG
2020 DATE
China International Fair for Trade in Services EVENT
Beijing GPE
China GPE
September 4, 2020 DATE
Tingshu Wang PERSON
Futur GPE
Reuters ORG
the New York Stock Exchange ORG
Manhattan GPE
New York City GPE
two days DATE
2020 DATE
U.S. GPE
New York GPE
U.S. GPE
November 5 DATE
Ethereum NER
In [73]:
# Concatenate all of the ethereum text together
ethereum_text = ' '.join(ethereum_df.text)
ethereum_text
Out[73]:
'FILE PHOTO: Representation of the Ethereum virtual currency standing on the PC motherboard is seen in this illustration picture, February 3, 2018. REUTERS/Dado Ruvic/Illustration\r\nLONDON (Reuters) - … [+1237 chars] FILE PHOTO: Representation of the Ethereum virtual currency standing on the PC motherboard is seen in this illustration picture, February 3, 2018. REUTERS/Dado Ruvic/Illustration\r\nLONDON (Reuters) - … [+1237 chars] LONDON (Reuters) - Digital currencies Ethereum and XRP soared on Monday, gaining momentum as bitcoin powered on towards its all-time high.\r\nFILE PHOTO: Representation of the Ethereum virtual currency… [+1950 chars] NEW YORK (Reuters) - Institutional investors pumped $429 million into cryptocurrency funds and products for the week ended Dec. 7, the second highest on record, pushing the sectors assets under manag… [+1888 chars] NEW YORK (Reuters) - Institutional investors pumped $429 million into cryptocurrency funds and products for the week ended Dec. 7, the second highest on record, pushing the sectors assets under manag… [+1888 chars] PayPal has launched the Generosity Network, a platform that allows users to create customized, personal fundraising campaigns. Yes, just like you can on GoFundMe.\xa0\r\nYou can raise a maximum of $20,000… [+1601 chars] By Reuters Staff\r\nFILE PHOTO: A representation of virtual currency Bitcoin is seen in front of a stock graph in this illustration taken November 19, 2020. REUTERS/Dado Ruvic/Illustration/File photo\r\n… [+336 chars] By Reuters Staff\r\nFILE PHOTO: A representation of virtual currency Bitcoin is seen in front of a stock graph in this illustration taken November 19, 2020. REUTERS/Dado Ruvic/Illustration/File photo\r\n… [+336 chars] The New York Times is (probably) about to publish a story about cryptocurrency exchange Coinbase. But we\'re not reading about it on the news outlet\'s website, because Coinbase has taken the highly un… [+3993 chars] December\r\n15, 2020\r\n6 min read\r\nOpinions expressed by Entrepreneur contributors are their own.\r\nA few days ago newly elected US senator, Cynthia Lummis, endorsed Bitcoin on live television. She spoke… [+6328 chars] Decentralized exchange protocols that allow crypto traders and investors to trade across different blockhains have been in development for a while. A significant new development now comes with the la… [+3079 chars] These attacks have been growing in numbers since early February this year, and one of the biggest flash loan attacks took place last month, in October, when hackers stole $24 million worth of cryptoc… [+603 chars] By Reuters Staff\r\nA representation of virtual currency Bitcoin is seen in this illustration taken November 19, 2020. REUTERS/Dado Ruvic/Illustration\r\nNEW YORK (Reuters) - Bitcoin BTC=BTSP rose to a n… [+1407 chars] By Reuters Staff\r\nA representation of virtual currency Bitcoin is seen in this illustration taken November 19, 2020. REUTERS/Dado Ruvic/Illustration\r\nNEW YORK (Reuters) - Bitcoin BTC=BTSP rose to a n… [+1388 chars] By Reuters Staff\r\nFILE PHOTO: Representations of virtual currency Bitcoin are placed on U.S. Dollar banknotes in this illustration taken May 26, 2020. REUTERS/Dado Ruvic/Illustration\r\nLONDON (Reuters… [+909 chars] By Reuters Staff\r\nFILE PHOTO: A representation of virtual currency Bitcoin is seen in this illustration taken November 19, 2020. REUTERS/Dado Ruvic/Illustration/File Photo\r\nLONDON (Reuters) - Bitcoin… [+861 chars] Hala Systems is using Hedera Hashgraph a secure alternative to blockchain technology \xa0to anchor a system that warns Syrians of impending conflict or natural disasters.\r\nHala Systems is a social enter… [+3718 chars] A chain of block erupters used for Bitcoin mining is pictured at the Plug and Play Tech Center in Sunnyvale, California, October 28, 2013.\r\nREUTERS/Stephen Lam\r\n<ul><li>Bitcoin slumped further throug… [+3148 chars] Each comment or response costs a tiny ETH fee of 0.00011 (about 5¢ in Ethereum cryptocurrency), payable from your Metamask.io wallet (the wallet is free, and takes just a moment to add to your browse… [+558 chars] LONDON (Reuters) - Bitcoin passed $17,000 on Tuesday to touch its highest level this year, with investors ascribing the gains to demand for its perceived inflation-resistant qualities and expectation… [+2068 chars] LONDON (Reuters) - Bitcoin passed $17,000 on Tuesday to touch its highest level this year, with investors ascribing the gains to demand for its perceived inflation-resistant qualities and expectation… [+2152 chars] LONDON/NEW YORK (Reuters) - Bitcoin on Tuesday soared to its highest level since December 2017 as the assets perceived quality as a hedge against inflation and expectations of mainstream acceptance l… [+2342 chars] FILE PHOTO: Representations of virtual currency Bitcoin are seen in this picture illustration taken taken March 13, 2020. REUTERS/Dado Ruvic//File Photo\r\nFuture of Money\r\nTom Wilson\r\nGertrude Chavez-… [+2623 chars] By Tom Wilson, Gertrude Chavez-Dreyfuss\r\nLONDON/NEW YORK (Reuters) - Bitcoin on Tuesday soared to its highest level since December 2017 as the assets perceived quality as a hedge against inflation an… [+2383 chars] NEW YORK (Reuters) - The worlds largest digital currency asset manager Grayscale said on Wednesday its assets under management soared to a record $10.4 billion, bolstered by the continued rise in inv… [+1800 chars] Technology, Media and Telecommunications\r\nGertrude Chavez-Dreyfuss\r\nNEW YORK, Nov 18 (Reuters) - The worlds largest digital currency asset manager Grayscale said on Wednesday its assets under managem… [+2026 chars] Gala Games, a blockchain games startup created by Zynga cofounder Eric Schiermeyer, cut a little-noticed but very interesting promotional deal this week with Brave, the maker of the privacy-focused B… [+13712 chars] You can now buy Bitcoin with Apple Pay, thanks to a new integration in the multi-currency crypto wallet app, Lumi. You can also buy ETH, BCH, Tether USDT, Binance USD, Celsius, Dai, EOS, and more tha… [+2645 chars] Ethereum has soared in recent weeks, adding 40% to its price over the last month. \r\nThe ethereum price passed $500 per ether token last week for the first time since June 2018riding bitcoin\'s coat ta… [+2966 chars] You could say Lil Yachty has been up to quite a bit of endeavors this year outside of his rap career. Besides creating a jingle for Reese’s Puffs and bringing his show Public Figures to HBO Max, the … [+1833 chars] It\'s been a wild year for Wall Street and the investment community. The unprecedented coronavirus disease 2019 (COVID-19) pandemic wiped away over a third of the S&amp;P 500\'s value in about a month … [+6032 chars] Lil Yachty\xa0is expanding his career and he wants you to be a part of it. The rapper\'s newly released cryptocurrency YachtyCoin is making it possible for fans to become shareholders in his career.\r\nThe… [+1104 chars] getty\r\nYou have to deep dive investment if you are going to do at all well. Handing your investment decisions to others or skimming the surface of the investing dynamic you are committing your capita… [+5208 chars] Ethereum, Ripples XRP, litecoin and chainlink are the world\'s biggest cryptocurrencies after bitcoin and they\'ve suddenly soared this week. \r\nEthereum, XRP, litecoin and chainlink, with a combined ma… [+2684 chars] Bitcoin, ethereum, Ripple\'s XRP, litecoin and chainlinkfive of the biggest cryptocurrencies by valuehave bounced back from a sell-off this week.\r\nThe bitcoin price climbed to over $18,000 per bitcoin… [+2089 chars] Visa Inc. headquarters in Foster City, California, U.S., on Nov. 23, 2020. After two years of work, Visa is opening up its network to USDC, a digital dollar created by Circle Internet Financial and i… [+12403 chars] Ripple\'s XRP, currently the world\'s third-biggest cryptocurrency by market value behind bitcoin and ethereum, has soared over the last weekadding around 150% to its price. \r\nThe XRP price has risen a… [+2376 chars] Bitcoin has had an incredible 2020, more than doubling in price since the beginning of the yearwith some predicting it will continue to climb. \r\nThe bitcoin price has recently soared to its 2017 all-… [+3900 chars] CanETH Pool CanETH Pool The smartest way to stake your Ether DecentrsikedBhereum Poot of Skake Po Bockchain Netaork Request infa Decentralized Ethereum LatDt +wi Proof of Stake (PoS) Network WHO ARE … [+2921 chars] Bitcoin, after charging into December, has hit something of a brick wallstopping just short of what\'s widely considered fresh territory north of $20,000 per bitcoin.\r\nThe bitcoin price has added an i… [+4591 chars] One of Ethereums most popular software wallets, MyEtherWallet is joining other crypto businesses by giving users access to Ethereum 2.0 staking.\r\nThrough a partnership with node-hosting service Stake… [+1881 chars] Genesis Block Ventures (GBV) announced the acquisition of OMG Network, which helps speed transactions and lower fees on the Ethereum blockchain by handling transactions off-chain, triggering a double… [+1433 chars] It\'s been an exceptionally volatile year for equities due to the unprecedented uncertainty created by the coronavirus pandemic. Nevertheless, it\'ll probably go down as a largely positive year for inv… [+6382 chars] Ethereum Classic wants to play in the decentralized finance (DeFi) space of the blockchain it contentiously split from in 2016.\r\nAnnounced Wednesday, Ethereum Classic Labs, the ETC blockchains bigges… [+3246 chars] The smart contract required for triggering the first phase of Ethereum 2.0 has enough funds to begin activation of Ethereum’s most ambitious upgrade yet, which will radically shift Ethereums economic… [+2722 chars] Bitcoin is knocking at the gates of $17,000 while Ethereums transaction growth in 2020 is a positive indicator of future financial use cases.\r\n<ul><li>Bitcoin (BTC) trading around $16,829 as of 21:00… [+4024 chars] ConsenSys is adding dapp development platform Truffle Suite back to its lineup of Ethereum tools.\r\nConsenSys Chief Strategy Officer Simon Morris said Tuesday the Ethereum-focused firm has acquired th… [+886 chars] IDEX is betting that three chains are better than one.\r\nThe non-custodial cryptocurrency exchange, whose operations run on the Ethereum blockchain, announced Tuesday it plans to expand to the Binance… [+2306 chars] Ethereum founder Vitalik Buterin took to Twitter to warn his followers not to take personal loans to purchase cryptocurrencies.\r\n<ul><li>On Monday, Buterin shared a post on Twitter warning followers … [+826 chars] Bitcoin is struggling to make gains as an expected low-volume weekend could push price further down. Meanwhile, the increasing number of active Ethereum addresses this year is a testament to the netw… [+4207 chars] Kraken has announced it will help fund open-source Ethereum projects in a first for the U.S.-based cryptocurrency exchange.\r\nIn a blog post Thursday, Kraken said it will collaborate with Gitcoin, an … [+1287 chars] The smart contract that will trigger the first phase of Ethereums most ambitious upgrade yet has nearly accrued enough funds to activate.\r\nThe Ethereum 2.0 deposit contract currently holds 385,440 ($… [+1751 chars] The number of billion-dollar spot volume days in the bitcoin market is increasing, pushing prices higher. Ethereums transaction fees are also increasing as general cryptocurrency interest fuels deman… [+4310 chars] If theres one thing Wall Street hates, its uncertainty. And between the COVID-19 pandemic and the presidential election, there was plenty of uncertainty to go around. So, its no surprise that many in… [+3945 chars] Ripple\'s XRP, the third biggest cryptocurrency by value after bitcoin and ethereum, has soared over the last month.\r\nXRP tokens, most of which are owned by the company Ripple, have more than doubled … [+2479 chars] “Sharding” is a proposed method of splitting the infrastructure of Ethereum into smaller pieces with the goal of scaling the platform so it can support many more users than it currently does.\r\nEthere… [+4186 chars] Ethereum 2.0 hit a major milestone as its “Beacon Chain” went live. Libra “seizes the day” and rebrands to Diem. Google searches for “bitcoin” have doubled since last month.\xa0\r\nCoinbase &lt;&gt; Micro… [+6762 chars] Welcome to another edition of Valid Points, where Will Foxley and I give a weekly update about the status and ongoing development of Ethereum 2.0.\xa0\r\nWell soon be incorporating data directly from Coin… [+6664 chars] The U.S. Securities and Exchange Commission (SEC) has granted another crypto firm permission to sell its native cryptocurrency.\xa0\r\nThe SEC published a no-action letter on Thursday (dated Nov. 17) to I… [+2705 chars] More than 500,000 ETH have been locked and loaded into Ethereum 2.0’s deposit contract, kick-starting the network’s major, multi-year development phase. JPMorgan analysts say institutions are piling … [+8154 chars] The biggest update in Ethereums history will begin its first phase on Dec. 1.\r\nPer a tweet by ETH 2.0 Researcher Justin Drake, Ethereum 2.0s Beacon Chains launch has been set for Dec. 1 at 12:00 UTC.… [+635 chars] Ethereum Classic (ETC) has undergone a hard fork that ushers in a new upgrade aimed to increase miner participation and increase security.\r\nAccording to the ETC explorer by Blockscout, at around 3:45… [+2126 chars] Human Protocol, the backbone for anti-bot system hCaptcha, announced Thursday it will be expanding beyond Ethereum to a future Polkadot parachain, Moonbeam.\xa0\r\nThe move also prepares for the addition … [+2331 chars] Its alive! Welcome, everyone, to the first issue of Valid Points.\xa0\r\nToday, we’re commemorating the historic launch of Ethereum 2.0, which marks the beginning of Ethereums live transformation into a p… [+6325 chars] Its finally here (kind of.) Ethereum 2.0, which has been in development since Barack Obama lived in the White House, has nailed its most important milestone to date: completion of phase 0 and the lau… [+14682 chars] Digital asset manager Grayscale Investments has passed another milestone, reaching $13 billion in assets under management on Dec. 14 for the first time.\r\n<ul><li>Data tweeted by the firm showed that … [+1039 chars] Blockchain technology creates new asset classes for investors to protect their values and themselves against inflation. In this article, tokenized real assets are presented: scarce assets such as rea… [+9051 chars] Look no further than the rapid growth this year in the white-hot arena of decentralized finance, or DeFi, and its clear why the Ethereum blockchain is dominating so many conversations right now in th… [+4988 chars] Bitcoin has sent the cryptocurrency market soaring in recent weeks with the total value of the world\'s combined cryptocurrencies adding an eye-watering $150 billion since the beginning of November. \r… [+4281 chars] Bitcoin, ethereum, Ripple\'s XRP, bitcoin cash, litecoin and chainlinkthe biggest cryptocurrencies by market valuehave fallen sharply after rocketing higher through November. \r\nThe bitcoin price lost … [+4274 chars] For the day ahead\r\nLitecoin would need to move through the $82.92 pivot to support a run at the first major resistance level at $85.66.\r\nSupport from the broader market would be needed, however, for … [+1498 chars] Ethereum\r\nEthereum rallied by 8.16% on Friday. Reversing a 1.48% loss from Thursday, Ethereum ended the day at $510.43.\r\nIt was another mixed start to the day. Ethereum fell to an early morning intra… [+5195 chars] I live in a democracy. But as Thanksgiving approaches, I find myself longing for the type of freedom I am seeing in China. People in China are able to move around freely right now. Many Americans may… [+7474 chars] As president, Donald Trump has had a bizarre habit of comparing himself to Abraham Lincoln. But Ronald Reagan is probably the much better example for understanding Trump\'s rise to power and how he ha… [+5024 chars] Grayscale Investments announced on Wednesday that shares of its Grayscale Ethereum Trust (ETHE) will split 9-for-1, a move that will increase liquidity and perceived affordability of the shares.\r\n<ul… [+1372 chars] Those new to crypto, such as the institutional investors recently buying into bitcoins digital gold narrative, might now be looking around for the next big thing.\r\nWith the long-anticipated arrival o… [+5195 chars] While bitcoin was the first stop for most investors before this year, a growing number of people are paying attention to Ethereum in its own right in 2020, Michael Sonnenshein, managing director at G… [+1915 chars] The Secret Network, a privacy-focused blockchain, has launched its Ethereum bridge, which lets assets be transferred between Ethereum and the Secret Network privately. A bridge essentially offers int… [+2985 chars] Last week, Congresswoman and “Squad” member Rashida Tlaib (D-Mich.) sent Crypto Twitter into a tizzy with the following proposal:\r\nThe bill’s academic/think tank proponents followed up with posts suc… [+12552 chars] Those new to crypto, such as the institutional investors recently buying into bitcoin’s “digital gold” narrative, might now be looking around for the next big thing.\r\nWith the long-anticipated arriva… [+5404 chars] Serenity is knocking.\r\nThe first stage of the next-generation proof-of-stake (PoS) Ethereum 2.0 is now live as of 12:00 UTC Tuesday, according to Beaconcha.in.\r\nA generalized blockchain for decentral… [+4537 chars] Blockchain Council" #BLOCKNEWS TM ETHEREUM ONLY 18% READY FOR THE LAUNCH OF ETH 2.0 US FED ECONOMISTS ARE HOPING TO IDENTIFY INTRINSIC FEATURES OF CBDC" CEO AT FTX MADE THE SECOND-LARGEST DONATION TO… [+430 chars] Singapore is funding blockchain R&amp;D. Germany’s second-largest stock exchange’s crypto app saw $1.21 billion in trading volumes this year. Grayscale is seeing a growing number of “Ethereum-first” … [+7366 chars] CoinDesk just snagged a front-row seat to a seminal event in the crypto industry. Ticket price: 32 ETH.\r\nAs a media outlet covering nascent technologies, we believe we can sometimes chronicle their d… [+3172 chars] Data from blockchain analysis firm Glassnode indicates that decentralized finance (DeFi) may be taking a huge bite out of centralized finance (CeFi) when it comes to ether.\r\n<ul><li>The amount of fee… [+1439 chars] Ethereum co-founder Vitalik Buterin, dressed like a medieval harlequin leaning against a velvet chair, stares past the viewer into the distance that is until hes rocketed into the sky while ethers pr… [+3276 chars] What happened\r\nMany companies with close ties to the cryptocurrency market saw their share prices plunging on Wednesday. Here are some of the most prominent victims of today\'s cryptocurrency tension:… [+3098 chars] FIVE BEST SMART CONTRACT PLATFORMS HYPERLEDGER FABRIC 01 It is a blockchain framework that aids in developing applications or solutions with a modular architecture. It is a permissioned blockchain. N… [+586 chars] Bitcoin has fallen sharply over the last 24 hours, moving away from the key $20,000 per bitcoin level.\r\nThe bitcoin price lost over $1,000 in a matter of hours, down over 5%, with cryptocurrency trad… [+2858 chars] Ethereum\r\nEthereum slid by 8.58% on Thursday. Following on from a 6.06% fall on Wednesday, Ethereum ended the day at $520.34.\r\nA mixed start to the day saw Ethereum rise to an early morning intraday … [+5936 chars] Ethereum co-founder Vitalik Buterin recently answered a number of community questions as part of an ask me anything, or AMA, session on Reddit. During the AMA, hosted by the Ethereum Foundations ETH … [+1396 chars] Blockchain And The Feel Good Factor. Man holding yellow speech bubble with smiley face on red ... [+] background.\r\ngetty\r\nFollowing on from a previous article, Purpose-Driven Blockchain, it has becom… [+5856 chars] The far right thought it had found the ideal breakfast beverage company. Then it took a big sip of Black Rifle Coffee and checked the news.For years, Black Rifle Coffee Company has been at the vangua… [+6010 chars] The Donald Trump phenomenon is purported to have divided friendships, families, and even marriages. I can attest to this fact in my own suburban Washington household, for this perhaps peculiar profes… [+5679 chars] <ul><li>USDT as the "Chosen One"\r\n</li><li>Prokey Optimum; making it simple\r\n</li><li>Stabilizing Coins, With THE Stablecoin\r\n</li></ul>KUALA LUMPUR, Malaysia, Dec. 9, 2020 /PRNewswire/ -- Prokey Tec… [+2917 chars] Ethereum\r\nEthereum fell by a further 2.65% on Friday. Following on from a 2.61% decline on Thursday, Ethereum ended the day at $544.23.\r\nIt was a mixed start to the day. Ethereum rose to an early mor… [+6286 chars]'
In [74]:
# Run the NER processor on all of the text
ethereum_doc = nlp(ethereum_text)

# Add a title to the document
ethereum_doc.user_data["title"] = "Ethereum NER"
In [76]:
# Render the visualization
displacy.render(ethereum_doc, style='ent')
Ethereum NER
FILE PHOTO: Representation of the Ethereum virtual currency standing on the PC motherboard is seen in this illustration picture, February 3, 2018 DATE . REUTERS/ ORG Dado Ruvic/Illustration LONDON ( Reuters ORG ) - … [+1237 chars] FILE PHOTO: Representation of the Ethereum virtual currency standing on the PC motherboard is seen in this illustration picture, February 3, 2018 DATE . REUTERS/ ORG Dado Ruvic/Illustration LONDON ( Reuters ORG ) - … [+1237 chars] LONDON GPE ( Reuters ORG ) - Digital currencies Ethereum and XRP ORG soared on Monday DATE , gaining momentum as bitcoin powered on towards its all-time high. FILE PHOTO: Representation of the Ethereum virtual currency… [+1950 chars] NEW YORK PERSON ( Reuters ORG ) - Institutional investors pumped $429 million MONEY into cryptocurrency funds and products for the week ended Dec. 7 DATE , the second ORDINAL highest on record, pushing the sectors assets under manag… [+1888 chars] NEW YORK PERSON ( Reuters ORG ) - Institutional investors pumped $429 million MONEY into cryptocurrency funds and products for the week ended Dec. 7 DATE , the second ORDINAL highest on record, pushing the sectors assets under manag… [+1888 chars] PayPal PERSON has launched the Generosity Network ORG , a platform that allows users to create customized, personal fundraising campaigns. Yes, just like you can on GoFundMe.  You can raise a maximum of $ 20,000 MONEY … [+1601 chars] By Reuters ORG Staff FILE PHOTO: A representation of virtual currency Bitcoin GPE is seen in front of a stock graph in this illustration taken November 19, 2020 DATE . REUTERS/ ORG Dado Ruvic/Illustration/File photo … [+336 chars] By Reuters ORG Staff FILE PHOTO: A representation of virtual currency Bitcoin GPE is seen in front of a stock graph in this illustration taken November 19, 2020 DATE . REUTERS/ ORG Dado Ruvic/Illustration/File photo … [+336 chars] The New York Times ORG is (probably) about to publish a story about cryptocurrency exchange Coinbase. But we're not reading about it on the news outlet's website, because Coinbase ORG has taken the highly un… [+3993 chars] December DATE 15 DATE , 2020 DATE 6 min QUANTITY read Opinions expressed by Entrepreneur contributors are their own. A few days ago DATE newly elected US GPE senator, Cynthia Lummis PERSON , endorsed Bitcoin GPE on live television. She spoke… [+6328 chars] Decentralized exchange protocols that allow crypto traders and investors to trade across different blockhains have been in development for a while. A significant new development now comes with the la… [+3079 chars] These attacks have been growing in numbers since early February this year DATE , and one of the biggest flash loan attacks took place last month DATE , in October DATE , when hackers stole $24 million MONEY worth of cryptoc… [+603 chars] By Reuters ORG Staff A representation of virtual currency Bitcoin GPE is seen in this illustration taken November 19, 2020 DATE . REUTERS/ ORG Dado Ruvic/Illustration NEW YORK ( Reuters ORG ) - Bitcoin BTC=BTSP rose to a n… [+1407 chars] By Reuters ORG Staff A representation of virtual currency Bitcoin GPE is seen in this illustration taken November 19, 2020 DATE . REUTERS/ ORG Dado Ruvic/Illustration NEW YORK ( Reuters ORG ) - Bitcoin BTC=BTSP rose to a n… [+1388 chars] By Reuters ORG Staff FILE PHOTO: Representations of virtual currency Bitcoin GPE are placed on U.S. GPE Dollar banknotes in this illustration taken May 26, 2020 DATE . REUTERS/ ORG Dado Ruvic/Illustration LONDON ( Reuters ORG … [+909 chars] By Reuters ORG Staff FILE PHOTO: A representation of virtual currency Bitcoin GPE is seen in this illustration taken November 19, 2020 DATE . REUTERS/ ORG Dado Ruvic/Illustration/File Photo LONDON GPE ( Reuters ORG ) - Bitcoin GPE … [+861 chars] Hala Systems ORG is using Hedera ORG Hashgraph a secure alternative to blockchain technology  to anchor a system that warns Syrians NORP of impending conflict or natural disasters. Hala Systems ORG is a social enter… [+3718 chars] A chain of block erupters used for Bitcoin GPE mining is pictured at the Plug and Play Tech Center ORG in Sunnyvale GPE , California GPE , October 28, 2013 DATE . REUTERS/Stephen Lam ORG <ul><li> Bitcoin GPE slumped further throug… [+3148 chars] Each comment or response costs a tiny ETH ORG fee of 0.00011 CARDINAL ( about 5¢ CARDINAL in Ethereum cryptocurrency), payable from your Metamask.io wallet (the wallet is free, and takes just a moment to add to your browse… [+558 chars] LONDON GPE ( Reuters ORG ) - Bitcoin GPE passed $ 17,000 MONEY on Tuesday DATE to touch its highest level this year DATE , with investors ascribing the gains to demand for its perceived inflation-resistant qualities and expectation… [+2068 chars] LONDON GPE ( Reuters ORG ) - Bitcoin GPE passed $ 17,000 MONEY on Tuesday DATE to touch its highest level this year DATE , with investors ascribing the gains to demand for its perceived inflation-resistant qualities and expectation… [+2152 chars] LONDON GPE /NEW YORK ( Reuters ORG ) - Bitcoin GPE on Tuesday DATE soared to its highest level since December 2017 DATE as the assets perceived quality as a hedge against inflation and expectations of mainstream acceptance l… [+2342 chars] FILE PHOTO: Representations of virtual currency Bitcoin GPE are seen in this picture illustration taken taken March 13, 2020 DATE . REUTERS/ ORG Dado Ruvic//File Photo Future of Money Tom Wilson PERSON Gertrude Chavez-… [+2623 chars] By Tom Wilson PERSON , Gertrude Chavez-Dreyfuss PERSON LONDON GPE /NEW YORK ( Reuters ORG ) - Bitcoin GPE on Tuesday DATE soared to its highest level since December 2017 DATE as the assets perceived quality as a hedge against inflation an… [+2383 chars] NEW YORK GPE ( Reuters ORG ) - The worlds largest digital currency asset manager Grayscale ORG said on Wednesday DATE its assets under management soared to a record $10.4 billion MONEY , bolstered by the continued rise in inv… [+1800 chars] Technology, Media and Telecommunications ORG Gertrude Chavez-Dreyfuss PERSON NEW YORK, Nov 18 ( Reuters ORG ) - The worlds largest digital currency asset manager Grayscale ORG said on Wednesday DATE its assets under managem… [+2026 chars] Gala Games, a blockchain games startup created by Zynga GPE cofounder Eric Schiermeyer PERSON , cut a little-noticed but very interesting promotional deal this week DATE with Brave PERSON , the maker of the privacy-focused B… [+13712 chars] You can now buy Bitcoin GPE with Apple ORG Pay PERSON , thanks to a new integration in the multi-currency crypto wallet app, Lumi PERSON . You can also buy ETH ORG , BCH ORG , Tether USDT PERSON , Binance USD ORG , Celsius ORG , Dai PERSON , EOS ORG , and more tha… [+2645 chars] Ethereum has soared in recent weeks DATE , adding 40% PERCENT to its price over the last month DATE . The ethereum price passed $ 500 MONEY per ether token last week DATE for the first ORDINAL time since June DATE 2018riding bitcoin GPE 's coat ta… [+2966 chars] You could say Lil Yachty PERSON has been up to quite a bit of endeavors this year DATE outside of his rap career. Besides creating a jingle for Reese NORP ’s Puffs and bringing his show Public Figures to WORK_OF_ART HBO Max PERSON , the … [+1833 chars] It's been a wild year DATE for Wall Street and the investment community. The unprecedented coronavirus disease 2019 DATE (COVID-19) pandemic wiped away over a third CARDINAL of the S&amp;P 500's value in about a month DATE … [+6032 chars] Lil Yachty PERSON  is expanding his career and he wants you to be a part of it. The rapper's newly released cryptocurrency YachtyCoin PERSON is making it possible for fans to become shareholders in his career. The… [+1104 chars] getty You have to deep dive investment if you are going to do at all well. Handing your investment decisions to others or skimming the surface of the investing dynamic you are committing your capita… [+5208 chars] Ethereum, Ripples XRP PERSON , litecoin and chainlink are the world's biggest cryptocurrencies after bitcoin and they've suddenly soared this week DATE . Ethereum, XRP ORG , litecoin and chainlink, with a combined ma… [+2684 chars] Bitcoin GPE , ethereum, Ripple PERSON 's XRP, litecoin and chainlinkfive of the biggest cryptocurrencies by valuehave bounced back from a sell-off this week DATE . The bitcoin price climbed to over $18,000 MONEY per bitcoin… [+2089 chars] Visa Inc. ORG headquarters in Foster City GPE , California GPE , U.S. GPE , on Nov. 23, 2020 DATE . After two years DATE of work, Visa ORG is opening up its network to USDC ORG , a digital dollar created by Circle Internet Financial ORG and i… [+12403 chars] Ripple PERSON 's XRP, currently the world's third ORDINAL -biggest cryptocurrency by market value behind bitcoin and ethereum, has soared over the last weekadding around 150% PERCENT to its price. The XRP ORG price has risen a… [+2376 chars] Bitcoin GPE has had an incredible 2020 DATE , more than doubling in price since the beginning of the yearwith some predicting it will continue to climb. The bitcoin price has recently soared to its 2017 DATE all-… [+3900 chars] CanETH Pool CanETH Pool The smartest way to stake your Ether DecentrsikedBhereum Poot PRODUCT of Skake Po Bockchain Netaork Request ORG infa Decentralized Ethereum LatDt ORG +wi Proof of Stake (PoS) Network WHO ARE … [+2921 chars] Bitcoin GPE , after charging into December DATE , has hit something of a brick wallstopping just short of what's widely considered fresh territory north of $ 20,000 MONEY per bitcoin. The bitcoin price has added an i… [+4591 chars] One CARDINAL of Ethereums most popular software wallets, MyEtherWallet is joining other crypto businesses by giving users access to Ethereum 2.0 ORG staking. Through a partnership with node-hosting service Stake… [+1881 chars] Genesis Block Ventures ORG ( GBV ORG ) announced the acquisition of OMG Network ORG , which helps speed transactions and lower fees on the Ethereum blockchain by handling transactions off-chain, triggering a double… [+1433 chars] It's been an exceptionally volatile year for equities due to the unprecedented uncertainty created by the coronavirus pandemic. Nevertheless, it'll probably go down as a largely positive year for inv… [+6382 chars] Ethereum Classic wants to play in the decentralized finance ( DeFi ORG ) space of the blockchain it contentiously split from in 2016 DATE . Announced Wednesday DATE , Ethereum Classic Labs ORG , the ETC ORG blockchains bigges… [+3246 chars] The smart contract required for triggering the first ORDINAL phase of Ethereum 2.0 ORG has enough funds to begin activation of Ethereum’s most ambitious upgrade yet, which will radically shift Ethereums economic… [+2722 chars] Bitcoin GPE is knocking at the gates of $ 17,000 MONEY while Ethereums transaction growth in 2020 DATE is a positive indicator of future financial use cases. < ul><li PERSON > Bitcoin GPE ( BTC ORG ) trading around $16,829 MONEY as of 21:00 TIME … [+4024 chars] ConsenSys ORG is adding dapp development platform Truffle Suite ORG back to its lineup of Ethereum tools. ConsenSys ORG Chief Strategy Officer Simon Morris PERSON said Tuesday DATE the Ethereum-focused firm has acquired th… [+886 chars] IDEX is betting that three CARDINAL chains are better than one. The non-custodial cryptocurrency exchange, whose operations run on the Ethereum blockchain, announced Tuesday DATE it plans to expand to the Binance ORG … [+2306 chars] Ethereum founder Vitalik Buterin PERSON took to Twitter ORG to warn his followers not to take personal loans to purchase cryptocurrencies. <ul><li>On Monday DATE , Buterin PERSON shared a post on Twitter ORG warning followers … [+826 chars] Bitcoin GPE is struggling to make gains as an expected low-volume weekend could push price further down. Meanwhile, the increasing number of active Ethereum addresses this year DATE is a testament to the netw… [+4207 chars] Kraken ORG has announced it will help fund open-source Ethereum projects in a first ORDINAL for the U.S.-based cryptocurrency exchange ORG . In a blog post Thursday DATE , Kraken ORG said it will collaborate with Gitcoin PERSON , an … [+1287 chars] The smart contract that will trigger the first ORDINAL phase of Ethereums most ambitious upgrade yet has nearly accrued enough funds to activate. The Ethereum 2.0 ORG deposit contract currently holds 385,440 CARDINAL ($… [+1751 chars] The number of billion-dollar MONEY spot volume days DATE in the bitcoin market is increasing, pushing prices higher. Ethereums transaction fees are also increasing as general cryptocurrency interest fuels deman… [+4310 chars] If theres one CARDINAL thing Wall Street hates, its uncertainty. And between the COVID-19 pandemic and the presidential election, there was plenty of uncertainty to go around. So, its no surprise that many in… [+3945 chars] Ripple PERSON 's XRP, the third ORDINAL biggest cryptocurrency by value after bitcoin GPE and ethereum, has soared over the last month DATE . XRP ORG tokens, most of which are owned by the company Ripple PERSON , have more than doubled … [+2479 chars] “Sharding” is a proposed method of splitting the infrastructure of Ethereum into smaller pieces with the goal of scaling the platform so it can support many more users than it currently does. Ethere… [+4186 chars] Ethereum 2.0 ORG hit a major milestone as its “ Beacon Chain PRODUCT ” went live. Libra “seizes the day” and rebrands to Diem GPE . Google searches for “bitcoin” have doubled since last month DATE .  Coinbase &lt;&gt ORG ; Micro ORG … [+6762 chars] Welcome to another edition of Valid Points ORG , where Will Foxley PERSON and I give a weekly DATE update about the status and ongoing development of Ethereum 2.0 ORG .  Well soon be incorporating data directly from Coin GPE … [+6664 chars] The U.S. Securities and Exchange Commission ORG ( SEC ORG ) has granted another crypto firm permission to sell its native cryptocurrency.  The SEC ORG published a no-action letter on Thursday DATE (dated Nov. 17 DATE ) to I… [+2705 chars] More than 500,000 CARDINAL ETH have been locked and loaded into Ethereum 2.0’s ORG deposit contract, kick-starting the network’s major, multi-year DATE development phase. JPMorgan ORG analysts say institutions are piling … [+8154 chars] The biggest update in Ethereums LOC history will begin its first ORDINAL phase on Dec. 1 DATE . Per a tweet by ETH 2.0 Researcher Justin Drake PERSON , Ethereum 2.0s Beacon Chains launch has been set for Dec. 1 DATE at 12:00 TIME UTC.… [+635 chars] Ethereum Classic (ETC) has undergone a hard fork that ushers in a new upgrade aimed to increase miner participation and increase security. According to the ETC ORG explorer by Blockscout PERSON , at around 3:45 TIME … [+2126 chars] Human Protocol, the backbone for anti-bot system hCaptcha ORG , announced Thursday DATE it will be expanding beyond Ethereum to a future Polkadot parachain, Moonbeam.  The move also prepares for the addition … [+2331 chars] Its alive! Welcome, everyone, to the first ORDINAL issue of Valid Points ORG .  Today DATE , we’re commemorating the historic launch of Ethereum 2.0 ORG , which marks the beginning of Ethereums live transformation into a p… [+6325 chars] Its finally here (kind of.) Ethereum 2.0 ORG , which has been in development since Barack Obama PERSON lived in the White House FAC , has nailed its most important milestone to date: completion of phase 0 and the lau… [+14682 chars] Digital ORG asset manager Grayscale Investments ORG has passed another milestone, reaching $13 billion MONEY in assets under management on Dec. 14 DATE for the first ORDINAL time. <ul><li>Data tweeted by the firm showed that … [+1039 chars] Blockchain technology creates new asset classes for investors to protect their values and themselves against inflation. In this article, tokenized real assets are presented: scarce assets such as rea… [+9051 chars] Look no further than the rapid growth this year DATE in the white-hot arena of decentralized finance, or DeFi PERSON , and its clear why the Ethereum blockchain is dominating so many conversations right now in th… [+4988 chars] Bitcoin GPE has sent the cryptocurrency market soaring in recent weeks DATE with the total value of the world's combined cryptocurrencies adding an eye-watering $150 billion MONEY since the beginning of November DATE . … [+4281 chars] Bitcoin GPE , ethereum, Ripple PERSON 's XRP, bitcoin cash, litecoin and chainlinkthe biggest cryptocurrencies by market valuehave fallen sharply after rocketing higher through November DATE . The bitcoin price lost … [+4274 chars] For the day ahead DATE Litecoin PERSON would need to move through the $82.92 pivot MONEY to support a run at the first ORDINAL major resistance level at $ 85.66 MONEY . Support from the broader market would be needed, however, for … [+1498 chars] Ethereum Ethereum ORG rallied by 8.16% PERCENT on Friday DATE . Reversing a 1.48% PERCENT loss from Thursday DATE , Ethereum ended ORG the day DATE at $ 510.43 MONEY . It was another mixed start to the day DATE . Ethereum fell to an early morning TIME intra… [+5195 chars] I live in a democracy. But as Thanksgiving EVENT approaches, I find myself longing for the type of freedom I am seeing in China GPE . People in China GPE are able to move around freely right now. Many Americans NORP may… [+7474 chars] As president, Donald Trump PERSON has had a bizarre habit of comparing himself to Abraham Lincoln PERSON . But Ronald Reagan PERSON is probably the much better example for understanding Trump ORG 's rise to power and how he ha… [+5024 chars] Grayscale Investments ORG announced on Wednesday DATE that shares of its Grayscale Ethereum Trust ORG (ETHE) will split 9-for-1, a move that will increase liquidity and perceived affordability of the shares. <ul… [+1372 chars] Those new to crypto, such as the institutional investors recently buying into bitcoins digital gold narrative, might now be looking around for the next big thing. With the long-anticipated arrival o… [+5195 chars] While bitcoin was the first ORDINAL stop for most investors before this year DATE , a growing number of people are paying attention to Ethereum in its own right in 2020 DATE , Michael Sonnenshein PERSON , managing director at G… [+1915 chars] The Secret Network ORG , a privacy-focused blockchain, has launched its Ethereum bridge FAC , which lets assets be transferred between Ethereum and the Secret Network ORG privately. A bridge essentially offers int… [+2985 chars] Last week DATE , Congresswoman ORG and “Squad” member Rashida Tlaib PERSON (D-Mich.) sent Crypto Twitter PERSON into a tizzy with the following proposal: The bill’s academic/think tank proponents followed up with posts suc… [+12552 chars] Those new to crypto, such as the institutional investors recently buying into bitcoin’s “digital gold” narrative, might now be looking around for the next big thing. With the long-anticipated arriva… [+5404 chars] Serenity is knocking. The first ORDINAL stage of the next-generation proof-of-stake ( PoS ORG ) Ethereum 2.0 CARDINAL is now live as of 12:00 UTC TIME Tuesday DATE , according to Beaconcha.in CARDINAL . A generalized blockchain for decentral… [+4537 chars] Blockchain Council ORG " # BLOCKNEWS TM ETHEREUM ORG ONLY 18% PERCENT READY FOR THE LAUNCH OF ETH 2.0 US FED ECONOMISTS ORG ARE HOPING TO IDENTIFY INTRINSIC FEATURES OF CBDC" CEO AT FTX MADE THE SECOND-LARGEST DONATION TO… [+430 chars] Singapore GPE is funding blockchain R&amp;D. Germany GPE ’s second ORDINAL -largest stock exchange’s crypto app ORG saw $1.21 billion MONEY in trading volumes this year DATE . Grayscale ORG is seeing a growing number of “Ethereum-first” … [+7366 chars] CoinDesk just snagged a front-row seat to a seminal event in the crypto industry. Ticket price: 32 CARDINAL ETH ORG . As a media outlet covering nascent technologies, we believe we can sometimes chronicle their d… [+3172 chars] Data from blockchain analysis firm Glassnode PERSON indicates that decentralized finance ( DeFi LOC ) may be taking a huge bite out of centralized finance ( CeFi ORG ) when it comes to ether. < ul><li PERSON >The amount of fee… [+1439 chars] Ethereum co-founder Vitalik Buterin PERSON , dressed like a medieval harlequin leaning against a velvet chair, stares past the viewer into the distance that is until hes rocketed into the sky while ethers pr… [+3276 chars] What happened Many companies with close ties to the cryptocurrency market saw their share prices plunging on Wednesday DATE . Here are some of the most prominent victims of today DATE 's cryptocurrency tension:… [+3098 chars] FIVE CARDINAL BEST SMART CONTRACT PLATFORMS HYPERLEDGER FABRIC 01 It is a blockchain framework that aids in developing applications or solutions with a modular architecture. It is a permissioned blockchain. N… [+586 chars] Bitcoin GPE has fallen sharply over the last 24 hours TIME , moving away from the key $ 20,000 MONEY per bitcoin level. The bitcoin price lost over $ 1,000 MONEY in a matter of hours TIME , down over 5% PERCENT , with cryptocurrency trad… [+2858 chars] Ethereum Ethereum ORG slid by 8.58% PERCENT on Thursday DATE . Following on from a 6.06% PERCENT fall on Wednesday DATE , Ethereum ORG ended the day DATE at $ 520.34 MONEY . A mixed start to the day DATE saw Ethereum rise to an early morning TIME intraday … [+5936 chars] Ethereum co-founder Vitalik Buterin PERSON recently answered a number of community questions as part of an ask me anything, or AMA, session on Reddit PRODUCT . During the AMA, hosted by the Ethereum Foundations ETH … [+1396 chars] Blockchain And The Feel Good Factor. Man holding yellow speech bubble with smiley face on red ... [+] background. getty Following on from a previous article, Purpose-Driven Blockchain, it has becom… [+5856 chars] The far right thought it had found the ideal breakfast beverage company. Then it took a big sip of Black Rifle Coffee ORG and checked the news.For years DATE , Black Rifle Coffee Company ORG has been at the vangua… [+6010 chars] The Donald Trump ORG phenomenon is purported to have divided friendships, families, and even marriages. I can attest to this fact in my own suburban Washington GPE household, for this perhaps peculiar profes… [+5679 chars] < ul><li PERSON > USDT ORG as the "Chosen One" </li><li> Prokey Optimum ORG ; making it simple </li><li> Stabilizing Coins ORG , With THE Stablecoin GPE </li></ul> KUALA LUMPUR GPE , Malaysia GPE , Dec. 9 DATE , 2020 /PRNewswire/ -- Prokey Tec PERSON … [+2917 chars] Ethereum Ethereum ORG fell by a further 2.65% PERCENT on Friday DATE . Following on from a 2.61% PERCENT decline on Thursday DATE , Ethereum ORG ended the day DATE at $ 544.23 MONEY . It was a mixed start to the day DATE . Ethereum rose to an early mor… [+6286 chars]
In [81]:
# List all Entities
for ent in ethereum_doc.ents:
    print(ent.text + ' ' + ent.label_)
February 3, 2018 DATE
REUTERS/ ORG
Reuters ORG
February 3, 2018 DATE
REUTERS/ ORG
Reuters ORG
LONDON GPE
Reuters ORG
XRP ORG
Monday DATE
NEW YORK PERSON
Reuters ORG
$429 million MONEY
the week ended Dec. 7 DATE
second ORDINAL
NEW YORK PERSON
Reuters ORG
$429 million MONEY
the week ended Dec. 7 DATE
second ORDINAL
PayPal PERSON
the Generosity Network ORG
20,000 MONEY
Reuters ORG
Bitcoin GPE
November 19, 2020 DATE
REUTERS/ ORG
Reuters ORG
Bitcoin GPE
November 19, 2020 DATE
REUTERS/ ORG
The New York Times ORG
Coinbase ORG
December DATE
15 DATE
2020 DATE
6 min QUANTITY
A few days ago DATE
US GPE
Cynthia Lummis PERSON
Bitcoin GPE
early February this year DATE
last month DATE
October DATE
$24 million MONEY
Reuters ORG
Bitcoin GPE
November 19, 2020 DATE
REUTERS/ ORG
Reuters ORG
Reuters ORG
Bitcoin GPE
November 19, 2020 DATE
REUTERS/ ORG
Reuters ORG
Reuters ORG
Bitcoin GPE
U.S. GPE
May 26, 2020 DATE
REUTERS/ ORG
Reuters ORG
Reuters ORG
Bitcoin GPE
November 19, 2020 DATE
REUTERS/ ORG
LONDON GPE
Reuters ORG
Bitcoin GPE
Hala Systems ORG
Hedera ORG
Syrians NORP
Hala Systems ORG
Bitcoin GPE
the Plug and Play Tech Center ORG
Sunnyvale GPE
California GPE
October 28, 2013 DATE
REUTERS/Stephen Lam ORG
Bitcoin GPE
ETH ORG
0.00011 CARDINAL
about 5¢ CARDINAL
LONDON GPE
Reuters ORG
Bitcoin GPE
17,000 MONEY
Tuesday DATE
this year DATE
LONDON GPE
Reuters ORG
Bitcoin GPE
17,000 MONEY
Tuesday DATE
this year DATE
LONDON GPE
Reuters ORG
Bitcoin GPE
Tuesday DATE
December 2017 DATE
Bitcoin GPE
March 13, 2020 DATE
REUTERS/ ORG
Tom Wilson PERSON
Tom Wilson PERSON
Chavez-Dreyfuss PERSON
LONDON GPE
Reuters ORG
Bitcoin GPE
Tuesday DATE
December 2017 DATE
NEW YORK GPE
Reuters ORG
Grayscale ORG
Wednesday DATE
a record $10.4 billion MONEY
Media and Telecommunications ORG
Chavez-Dreyfuss PERSON
Reuters ORG
Grayscale ORG
Wednesday DATE
Zynga GPE
Eric Schiermeyer PERSON
this week DATE
Brave PERSON
Bitcoin GPE
Apple ORG
Pay PERSON
Lumi PERSON
ETH ORG
BCH ORG
Tether USDT PERSON
Binance USD ORG
Celsius ORG
Dai PERSON
EOS ORG
recent weeks DATE
40% PERCENT
the last month DATE
500 MONEY
last week DATE
first ORDINAL
June DATE
bitcoin GPE
Lil Yachty PERSON
this year DATE
Reese NORP
Public Figures to WORK_OF_ART
HBO Max PERSON
a wild year DATE
2019 DATE
a third CARDINAL
about a month DATE
Lil Yachty PERSON
YachtyCoin PERSON
Ripples XRP PERSON
this week DATE
XRP ORG
Bitcoin GPE
Ripple PERSON
this week DATE
over $18,000 MONEY
Visa Inc. ORG
Foster City GPE
California GPE
U.S. GPE
Nov. 23, 2020 DATE
two years DATE
Visa ORG
USDC ORG
Circle Internet Financial ORG
Ripple PERSON
third ORDINAL
around 150% PERCENT
XRP ORG
Bitcoin GPE
2020 DATE
2017 DATE
Ether DecentrsikedBhereum Poot PRODUCT
Netaork Request ORG
Decentralized Ethereum LatDt ORG
Bitcoin GPE
December DATE
20,000 MONEY
One CARDINAL
Ethereum 2.0 ORG
Genesis Block Ventures ORG
GBV ORG
OMG Network ORG
DeFi ORG
2016 DATE
Wednesday DATE
Ethereum Classic Labs ORG
ETC ORG
first ORDINAL
Ethereum 2.0 ORG
Bitcoin GPE
17,000 MONEY
2020 DATE
ul><li PERSON
Bitcoin GPE
BTC ORG
around $16,829 MONEY
21:00 TIME
ConsenSys ORG
Truffle Suite ORG
ConsenSys ORG
Simon Morris PERSON
Tuesday DATE
three CARDINAL
Tuesday DATE
Binance ORG
Vitalik Buterin PERSON
Twitter ORG
Monday DATE
Buterin PERSON
Twitter ORG
Bitcoin GPE
this year DATE
Kraken ORG
first ORDINAL
the U.S.-based cryptocurrency exchange ORG
Thursday DATE
Kraken ORG
Gitcoin PERSON
first ORDINAL
Ethereum 2.0 ORG
385,440 CARDINAL
billion-dollar MONEY
days DATE
one CARDINAL
Ripple PERSON
third ORDINAL
bitcoin GPE
the last month DATE
XRP ORG
Ripple PERSON
Ethereum 2.0 ORG
Beacon Chain PRODUCT
Diem GPE
last month DATE
Coinbase &lt;&gt ORG
Micro ORG
Valid Points ORG
Will Foxley PERSON
weekly DATE
Ethereum 2.0 ORG
Coin GPE
The U.S. Securities and Exchange Commission ORG
SEC ORG
SEC ORG
Thursday DATE
Nov. 17 DATE
More than 500,000 CARDINAL
Ethereum 2.0’s ORG
multi-year DATE
JPMorgan ORG
Ethereums LOC
first ORDINAL
Dec. 1 DATE
Justin Drake PERSON
Dec. 1 DATE
12:00 TIME
ETC ORG
Blockscout PERSON
3:45 TIME
hCaptcha ORG
Thursday DATE
first ORDINAL
Valid Points ORG
Today DATE
Ethereum 2.0 ORG
Ethereum 2.0 ORG
Barack Obama PERSON
the White House FAC
Digital ORG
Grayscale Investments ORG
$13 billion MONEY
Dec. 14 DATE
first ORDINAL
this year DATE
DeFi PERSON
Bitcoin GPE
recent weeks DATE
$150 billion MONEY
the beginning of November DATE
Bitcoin GPE
Ripple PERSON
November DATE
the day ahead DATE
Litecoin PERSON
$82.92 pivot MONEY
first ORDINAL
85.66 MONEY
Ethereum
Ethereum ORG
8.16% PERCENT
Friday DATE
1.48% PERCENT
Thursday DATE
Ethereum ended ORG
the day DATE
510.43 MONEY
the day DATE
early morning TIME
Thanksgiving EVENT
China GPE
China GPE
Americans NORP
Donald Trump PERSON
Abraham Lincoln PERSON
Ronald Reagan PERSON
Trump ORG
Grayscale Investments ORG
Wednesday DATE
Grayscale Ethereum Trust ORG
first ORDINAL
this year DATE
2020 DATE
Michael Sonnenshein PERSON
The Secret Network ORG
Ethereum bridge FAC
the Secret Network ORG
Last week DATE
Congresswoman ORG
Rashida Tlaib PERSON
Crypto Twitter PERSON
first ORDINAL
PoS ORG
2.0 CARDINAL
12:00 UTC TIME
Tuesday DATE
Beaconcha.in CARDINAL
Blockchain Council ORG
BLOCKNEWS TM ETHEREUM ORG
18% PERCENT
US FED ECONOMISTS ORG
Singapore GPE
Germany GPE
second ORDINAL
app ORG
$1.21 billion MONEY
this year DATE
Grayscale ORG
32 CARDINAL
ETH ORG
Glassnode PERSON
DeFi LOC
CeFi ORG
ul><li PERSON
Vitalik Buterin PERSON
Wednesday DATE
today DATE
FIVE CARDINAL
Bitcoin GPE
the last 24 hours TIME
20,000 MONEY
1,000 MONEY
a matter of hours TIME
over 5% PERCENT
Ethereum
Ethereum ORG
8.58% PERCENT
Thursday DATE
6.06% PERCENT
Wednesday DATE
Ethereum ORG
the day DATE
520.34 MONEY
the day DATE
early morning TIME
Vitalik Buterin PERSON
Reddit PRODUCT
Black Rifle Coffee ORG
years DATE
Black Rifle Coffee Company ORG
Donald Trump ORG
Washington GPE
ul><li PERSON
USDT ORG
Prokey Optimum ORG
Stabilizing Coins ORG
Stablecoin GPE
KUALA LUMPUR GPE
Malaysia GPE
Dec. 9 DATE
Prokey Tec PERSON
Ethereum
Ethereum ORG
2.65% PERCENT
Friday DATE
2.61% PERCENT
Thursday DATE
Ethereum ORG
the day DATE
544.23 MONEY
the day DATE
